{
  "nbformat": 4,
  "nbformat_minor": 0,
  "metadata": {
    "colab": {
      "provenance": [],
      "authorship_tag": "ABX9TyMqub8TYQzAKV5ysCl5HMmv"
    },
    "kernelspec": {
      "name": "python3",
      "display_name": "Python 3"
    },
    "language_info": {
      "name": "python"
    }
  },
  "cells": [
    {
      "cell_type": "markdown",
      "source": [
        "**Problem Statement:**\n",
        "\n",
        "Walmart aims to optimize its marketing strategies and product placement by understanding how customer gender, along with other relevant factors, influences purchase amounts. The problem is to develop a predictive model and actionable insights that identify significant relationships between customer demographics, purchase behavior, and external factors, ultimately leading to increased revenue and improved customer satisfaction.\""
      ],
      "metadata": {
        "id": "oMt0IbOxQWD1"
      }
    },
    {
      "cell_type": "code",
      "execution_count": null,
      "metadata": {
        "id": "tIOT9khdPXpq"
      },
      "outputs": [],
      "source": [
        "# Importing the required libraries\n",
        "import pandas as pd\n",
        "import numpy as np\n",
        "import seaborn as sns\n",
        "import matplotlib.pyplot as plt"
      ]
    },
    {
      "cell_type": "code",
      "source": [
        "#importing the data set\n",
        "df=pd.read_csv('https://d2beiqkhq929f0.cloudfront.net/public_assets/assets/000/001/293/original/walmart_data.csv?1641285094')\n",
        "df"
      ],
      "metadata": {
        "colab": {
          "base_uri": "https://localhost:8080/",
          "height": 424
        },
        "id": "2_DeISC-QxCi",
        "outputId": "f2d80918-efcd-4388-d1e2-465392d0bf5c"
      },
      "execution_count": null,
      "outputs": [
        {
          "output_type": "execute_result",
          "data": {
            "text/plain": [
              "        User_ID Product_ID Gender    Age  Occupation City_Category  \\\n",
              "0       1000001  P00069042      F   0-17          10             A   \n",
              "1       1000001  P00248942      F   0-17          10             A   \n",
              "2       1000001  P00087842      F   0-17          10             A   \n",
              "3       1000001  P00085442      F   0-17          10             A   \n",
              "4       1000002  P00285442      M    55+          16             C   \n",
              "...         ...        ...    ...    ...         ...           ...   \n",
              "550063  1006033  P00372445      M  51-55          13             B   \n",
              "550064  1006035  P00375436      F  26-35           1             C   \n",
              "550065  1006036  P00375436      F  26-35          15             B   \n",
              "550066  1006038  P00375436      F    55+           1             C   \n",
              "550067  1006039  P00371644      F  46-50           0             B   \n",
              "\n",
              "       Stay_In_Current_City_Years  Marital_Status  Product_Category  Purchase  \n",
              "0                               2               0                 3      8370  \n",
              "1                               2               0                 1     15200  \n",
              "2                               2               0                12      1422  \n",
              "3                               2               0                12      1057  \n",
              "4                              4+               0                 8      7969  \n",
              "...                           ...             ...               ...       ...  \n",
              "550063                          1               1                20       368  \n",
              "550064                          3               0                20       371  \n",
              "550065                         4+               1                20       137  \n",
              "550066                          2               0                20       365  \n",
              "550067                         4+               1                20       490  \n",
              "\n",
              "[550068 rows x 10 columns]"
            ],
            "text/html": [
              "\n",
              "  <div id=\"df-1da63224-dd67-4996-80b4-95c53ac7e25a\" class=\"colab-df-container\">\n",
              "    <div>\n",
              "<style scoped>\n",
              "    .dataframe tbody tr th:only-of-type {\n",
              "        vertical-align: middle;\n",
              "    }\n",
              "\n",
              "    .dataframe tbody tr th {\n",
              "        vertical-align: top;\n",
              "    }\n",
              "\n",
              "    .dataframe thead th {\n",
              "        text-align: right;\n",
              "    }\n",
              "</style>\n",
              "<table border=\"1\" class=\"dataframe\">\n",
              "  <thead>\n",
              "    <tr style=\"text-align: right;\">\n",
              "      <th></th>\n",
              "      <th>User_ID</th>\n",
              "      <th>Product_ID</th>\n",
              "      <th>Gender</th>\n",
              "      <th>Age</th>\n",
              "      <th>Occupation</th>\n",
              "      <th>City_Category</th>\n",
              "      <th>Stay_In_Current_City_Years</th>\n",
              "      <th>Marital_Status</th>\n",
              "      <th>Product_Category</th>\n",
              "      <th>Purchase</th>\n",
              "    </tr>\n",
              "  </thead>\n",
              "  <tbody>\n",
              "    <tr>\n",
              "      <th>0</th>\n",
              "      <td>1000001</td>\n",
              "      <td>P00069042</td>\n",
              "      <td>F</td>\n",
              "      <td>0-17</td>\n",
              "      <td>10</td>\n",
              "      <td>A</td>\n",
              "      <td>2</td>\n",
              "      <td>0</td>\n",
              "      <td>3</td>\n",
              "      <td>8370</td>\n",
              "    </tr>\n",
              "    <tr>\n",
              "      <th>1</th>\n",
              "      <td>1000001</td>\n",
              "      <td>P00248942</td>\n",
              "      <td>F</td>\n",
              "      <td>0-17</td>\n",
              "      <td>10</td>\n",
              "      <td>A</td>\n",
              "      <td>2</td>\n",
              "      <td>0</td>\n",
              "      <td>1</td>\n",
              "      <td>15200</td>\n",
              "    </tr>\n",
              "    <tr>\n",
              "      <th>2</th>\n",
              "      <td>1000001</td>\n",
              "      <td>P00087842</td>\n",
              "      <td>F</td>\n",
              "      <td>0-17</td>\n",
              "      <td>10</td>\n",
              "      <td>A</td>\n",
              "      <td>2</td>\n",
              "      <td>0</td>\n",
              "      <td>12</td>\n",
              "      <td>1422</td>\n",
              "    </tr>\n",
              "    <tr>\n",
              "      <th>3</th>\n",
              "      <td>1000001</td>\n",
              "      <td>P00085442</td>\n",
              "      <td>F</td>\n",
              "      <td>0-17</td>\n",
              "      <td>10</td>\n",
              "      <td>A</td>\n",
              "      <td>2</td>\n",
              "      <td>0</td>\n",
              "      <td>12</td>\n",
              "      <td>1057</td>\n",
              "    </tr>\n",
              "    <tr>\n",
              "      <th>4</th>\n",
              "      <td>1000002</td>\n",
              "      <td>P00285442</td>\n",
              "      <td>M</td>\n",
              "      <td>55+</td>\n",
              "      <td>16</td>\n",
              "      <td>C</td>\n",
              "      <td>4+</td>\n",
              "      <td>0</td>\n",
              "      <td>8</td>\n",
              "      <td>7969</td>\n",
              "    </tr>\n",
              "    <tr>\n",
              "      <th>...</th>\n",
              "      <td>...</td>\n",
              "      <td>...</td>\n",
              "      <td>...</td>\n",
              "      <td>...</td>\n",
              "      <td>...</td>\n",
              "      <td>...</td>\n",
              "      <td>...</td>\n",
              "      <td>...</td>\n",
              "      <td>...</td>\n",
              "      <td>...</td>\n",
              "    </tr>\n",
              "    <tr>\n",
              "      <th>550063</th>\n",
              "      <td>1006033</td>\n",
              "      <td>P00372445</td>\n",
              "      <td>M</td>\n",
              "      <td>51-55</td>\n",
              "      <td>13</td>\n",
              "      <td>B</td>\n",
              "      <td>1</td>\n",
              "      <td>1</td>\n",
              "      <td>20</td>\n",
              "      <td>368</td>\n",
              "    </tr>\n",
              "    <tr>\n",
              "      <th>550064</th>\n",
              "      <td>1006035</td>\n",
              "      <td>P00375436</td>\n",
              "      <td>F</td>\n",
              "      <td>26-35</td>\n",
              "      <td>1</td>\n",
              "      <td>C</td>\n",
              "      <td>3</td>\n",
              "      <td>0</td>\n",
              "      <td>20</td>\n",
              "      <td>371</td>\n",
              "    </tr>\n",
              "    <tr>\n",
              "      <th>550065</th>\n",
              "      <td>1006036</td>\n",
              "      <td>P00375436</td>\n",
              "      <td>F</td>\n",
              "      <td>26-35</td>\n",
              "      <td>15</td>\n",
              "      <td>B</td>\n",
              "      <td>4+</td>\n",
              "      <td>1</td>\n",
              "      <td>20</td>\n",
              "      <td>137</td>\n",
              "    </tr>\n",
              "    <tr>\n",
              "      <th>550066</th>\n",
              "      <td>1006038</td>\n",
              "      <td>P00375436</td>\n",
              "      <td>F</td>\n",
              "      <td>55+</td>\n",
              "      <td>1</td>\n",
              "      <td>C</td>\n",
              "      <td>2</td>\n",
              "      <td>0</td>\n",
              "      <td>20</td>\n",
              "      <td>365</td>\n",
              "    </tr>\n",
              "    <tr>\n",
              "      <th>550067</th>\n",
              "      <td>1006039</td>\n",
              "      <td>P00371644</td>\n",
              "      <td>F</td>\n",
              "      <td>46-50</td>\n",
              "      <td>0</td>\n",
              "      <td>B</td>\n",
              "      <td>4+</td>\n",
              "      <td>1</td>\n",
              "      <td>20</td>\n",
              "      <td>490</td>\n",
              "    </tr>\n",
              "  </tbody>\n",
              "</table>\n",
              "<p>550068 rows × 10 columns</p>\n",
              "</div>\n",
              "    <div class=\"colab-df-buttons\">\n",
              "\n",
              "  <div class=\"colab-df-container\">\n",
              "    <button class=\"colab-df-convert\" onclick=\"convertToInteractive('df-1da63224-dd67-4996-80b4-95c53ac7e25a')\"\n",
              "            title=\"Convert this dataframe to an interactive table.\"\n",
              "            style=\"display:none;\">\n",
              "\n",
              "  <svg xmlns=\"http://www.w3.org/2000/svg\" height=\"24px\" viewBox=\"0 -960 960 960\">\n",
              "    <path d=\"M120-120v-720h720v720H120Zm60-500h600v-160H180v160Zm220 220h160v-160H400v160Zm0 220h160v-160H400v160ZM180-400h160v-160H180v160Zm440 0h160v-160H620v160ZM180-180h160v-160H180v160Zm440 0h160v-160H620v160Z\"/>\n",
              "  </svg>\n",
              "    </button>\n",
              "\n",
              "  <style>\n",
              "    .colab-df-container {\n",
              "      display:flex;\n",
              "      gap: 12px;\n",
              "    }\n",
              "\n",
              "    .colab-df-convert {\n",
              "      background-color: #E8F0FE;\n",
              "      border: none;\n",
              "      border-radius: 50%;\n",
              "      cursor: pointer;\n",
              "      display: none;\n",
              "      fill: #1967D2;\n",
              "      height: 32px;\n",
              "      padding: 0 0 0 0;\n",
              "      width: 32px;\n",
              "    }\n",
              "\n",
              "    .colab-df-convert:hover {\n",
              "      background-color: #E2EBFA;\n",
              "      box-shadow: 0px 1px 2px rgba(60, 64, 67, 0.3), 0px 1px 3px 1px rgba(60, 64, 67, 0.15);\n",
              "      fill: #174EA6;\n",
              "    }\n",
              "\n",
              "    .colab-df-buttons div {\n",
              "      margin-bottom: 4px;\n",
              "    }\n",
              "\n",
              "    [theme=dark] .colab-df-convert {\n",
              "      background-color: #3B4455;\n",
              "      fill: #D2E3FC;\n",
              "    }\n",
              "\n",
              "    [theme=dark] .colab-df-convert:hover {\n",
              "      background-color: #434B5C;\n",
              "      box-shadow: 0px 1px 3px 1px rgba(0, 0, 0, 0.15);\n",
              "      filter: drop-shadow(0px 1px 2px rgba(0, 0, 0, 0.3));\n",
              "      fill: #FFFFFF;\n",
              "    }\n",
              "  </style>\n",
              "\n",
              "    <script>\n",
              "      const buttonEl =\n",
              "        document.querySelector('#df-1da63224-dd67-4996-80b4-95c53ac7e25a button.colab-df-convert');\n",
              "      buttonEl.style.display =\n",
              "        google.colab.kernel.accessAllowed ? 'block' : 'none';\n",
              "\n",
              "      async function convertToInteractive(key) {\n",
              "        const element = document.querySelector('#df-1da63224-dd67-4996-80b4-95c53ac7e25a');\n",
              "        const dataTable =\n",
              "          await google.colab.kernel.invokeFunction('convertToInteractive',\n",
              "                                                    [key], {});\n",
              "        if (!dataTable) return;\n",
              "\n",
              "        const docLinkHtml = 'Like what you see? Visit the ' +\n",
              "          '<a target=\"_blank\" href=https://colab.research.google.com/notebooks/data_table.ipynb>data table notebook</a>'\n",
              "          + ' to learn more about interactive tables.';\n",
              "        element.innerHTML = '';\n",
              "        dataTable['output_type'] = 'display_data';\n",
              "        await google.colab.output.renderOutput(dataTable, element);\n",
              "        const docLink = document.createElement('div');\n",
              "        docLink.innerHTML = docLinkHtml;\n",
              "        element.appendChild(docLink);\n",
              "      }\n",
              "    </script>\n",
              "  </div>\n",
              "\n",
              "\n",
              "<div id=\"df-87cb47d9-cb33-4c19-8df6-72d23d5cd8be\">\n",
              "  <button class=\"colab-df-quickchart\" onclick=\"quickchart('df-87cb47d9-cb33-4c19-8df6-72d23d5cd8be')\"\n",
              "            title=\"Suggest charts\"\n",
              "            style=\"display:none;\">\n",
              "\n",
              "<svg xmlns=\"http://www.w3.org/2000/svg\" height=\"24px\"viewBox=\"0 0 24 24\"\n",
              "     width=\"24px\">\n",
              "    <g>\n",
              "        <path d=\"M19 3H5c-1.1 0-2 .9-2 2v14c0 1.1.9 2 2 2h14c1.1 0 2-.9 2-2V5c0-1.1-.9-2-2-2zM9 17H7v-7h2v7zm4 0h-2V7h2v10zm4 0h-2v-4h2v4z\"/>\n",
              "    </g>\n",
              "</svg>\n",
              "  </button>\n",
              "\n",
              "<style>\n",
              "  .colab-df-quickchart {\n",
              "      --bg-color: #E8F0FE;\n",
              "      --fill-color: #1967D2;\n",
              "      --hover-bg-color: #E2EBFA;\n",
              "      --hover-fill-color: #174EA6;\n",
              "      --disabled-fill-color: #AAA;\n",
              "      --disabled-bg-color: #DDD;\n",
              "  }\n",
              "\n",
              "  [theme=dark] .colab-df-quickchart {\n",
              "      --bg-color: #3B4455;\n",
              "      --fill-color: #D2E3FC;\n",
              "      --hover-bg-color: #434B5C;\n",
              "      --hover-fill-color: #FFFFFF;\n",
              "      --disabled-bg-color: #3B4455;\n",
              "      --disabled-fill-color: #666;\n",
              "  }\n",
              "\n",
              "  .colab-df-quickchart {\n",
              "    background-color: var(--bg-color);\n",
              "    border: none;\n",
              "    border-radius: 50%;\n",
              "    cursor: pointer;\n",
              "    display: none;\n",
              "    fill: var(--fill-color);\n",
              "    height: 32px;\n",
              "    padding: 0;\n",
              "    width: 32px;\n",
              "  }\n",
              "\n",
              "  .colab-df-quickchart:hover {\n",
              "    background-color: var(--hover-bg-color);\n",
              "    box-shadow: 0 1px 2px rgba(60, 64, 67, 0.3), 0 1px 3px 1px rgba(60, 64, 67, 0.15);\n",
              "    fill: var(--button-hover-fill-color);\n",
              "  }\n",
              "\n",
              "  .colab-df-quickchart-complete:disabled,\n",
              "  .colab-df-quickchart-complete:disabled:hover {\n",
              "    background-color: var(--disabled-bg-color);\n",
              "    fill: var(--disabled-fill-color);\n",
              "    box-shadow: none;\n",
              "  }\n",
              "\n",
              "  .colab-df-spinner {\n",
              "    border: 2px solid var(--fill-color);\n",
              "    border-color: transparent;\n",
              "    border-bottom-color: var(--fill-color);\n",
              "    animation:\n",
              "      spin 1s steps(1) infinite;\n",
              "  }\n",
              "\n",
              "  @keyframes spin {\n",
              "    0% {\n",
              "      border-color: transparent;\n",
              "      border-bottom-color: var(--fill-color);\n",
              "      border-left-color: var(--fill-color);\n",
              "    }\n",
              "    20% {\n",
              "      border-color: transparent;\n",
              "      border-left-color: var(--fill-color);\n",
              "      border-top-color: var(--fill-color);\n",
              "    }\n",
              "    30% {\n",
              "      border-color: transparent;\n",
              "      border-left-color: var(--fill-color);\n",
              "      border-top-color: var(--fill-color);\n",
              "      border-right-color: var(--fill-color);\n",
              "    }\n",
              "    40% {\n",
              "      border-color: transparent;\n",
              "      border-right-color: var(--fill-color);\n",
              "      border-top-color: var(--fill-color);\n",
              "    }\n",
              "    60% {\n",
              "      border-color: transparent;\n",
              "      border-right-color: var(--fill-color);\n",
              "    }\n",
              "    80% {\n",
              "      border-color: transparent;\n",
              "      border-right-color: var(--fill-color);\n",
              "      border-bottom-color: var(--fill-color);\n",
              "    }\n",
              "    90% {\n",
              "      border-color: transparent;\n",
              "      border-bottom-color: var(--fill-color);\n",
              "    }\n",
              "  }\n",
              "</style>\n",
              "\n",
              "  <script>\n",
              "    async function quickchart(key) {\n",
              "      const quickchartButtonEl =\n",
              "        document.querySelector('#' + key + ' button');\n",
              "      quickchartButtonEl.disabled = true;  // To prevent multiple clicks.\n",
              "      quickchartButtonEl.classList.add('colab-df-spinner');\n",
              "      try {\n",
              "        const charts = await google.colab.kernel.invokeFunction(\n",
              "            'suggestCharts', [key], {});\n",
              "      } catch (error) {\n",
              "        console.error('Error during call to suggestCharts:', error);\n",
              "      }\n",
              "      quickchartButtonEl.classList.remove('colab-df-spinner');\n",
              "      quickchartButtonEl.classList.add('colab-df-quickchart-complete');\n",
              "    }\n",
              "    (() => {\n",
              "      let quickchartButtonEl =\n",
              "        document.querySelector('#df-87cb47d9-cb33-4c19-8df6-72d23d5cd8be button');\n",
              "      quickchartButtonEl.style.display =\n",
              "        google.colab.kernel.accessAllowed ? 'block' : 'none';\n",
              "    })();\n",
              "  </script>\n",
              "</div>\n",
              "\n",
              "  <div id=\"id_5fb14841-b798-4fd0-a8e7-b1894d45feeb\">\n",
              "    <style>\n",
              "      .colab-df-generate {\n",
              "        background-color: #E8F0FE;\n",
              "        border: none;\n",
              "        border-radius: 50%;\n",
              "        cursor: pointer;\n",
              "        display: none;\n",
              "        fill: #1967D2;\n",
              "        height: 32px;\n",
              "        padding: 0 0 0 0;\n",
              "        width: 32px;\n",
              "      }\n",
              "\n",
              "      .colab-df-generate:hover {\n",
              "        background-color: #E2EBFA;\n",
              "        box-shadow: 0px 1px 2px rgba(60, 64, 67, 0.3), 0px 1px 3px 1px rgba(60, 64, 67, 0.15);\n",
              "        fill: #174EA6;\n",
              "      }\n",
              "\n",
              "      [theme=dark] .colab-df-generate {\n",
              "        background-color: #3B4455;\n",
              "        fill: #D2E3FC;\n",
              "      }\n",
              "\n",
              "      [theme=dark] .colab-df-generate:hover {\n",
              "        background-color: #434B5C;\n",
              "        box-shadow: 0px 1px 3px 1px rgba(0, 0, 0, 0.15);\n",
              "        filter: drop-shadow(0px 1px 2px rgba(0, 0, 0, 0.3));\n",
              "        fill: #FFFFFF;\n",
              "      }\n",
              "    </style>\n",
              "    <button class=\"colab-df-generate\" onclick=\"generateWithVariable('df')\"\n",
              "            title=\"Generate code using this dataframe.\"\n",
              "            style=\"display:none;\">\n",
              "\n",
              "  <svg xmlns=\"http://www.w3.org/2000/svg\" height=\"24px\"viewBox=\"0 0 24 24\"\n",
              "       width=\"24px\">\n",
              "    <path d=\"M7,19H8.4L18.45,9,17,7.55,7,17.6ZM5,21V16.75L18.45,3.32a2,2,0,0,1,2.83,0l1.4,1.43a1.91,1.91,0,0,1,.58,1.4,1.91,1.91,0,0,1-.58,1.4L9.25,21ZM18.45,9,17,7.55Zm-12,3A5.31,5.31,0,0,0,4.9,8.1,5.31,5.31,0,0,0,1,6.5,5.31,5.31,0,0,0,4.9,4.9,5.31,5.31,0,0,0,6.5,1,5.31,5.31,0,0,0,8.1,4.9,5.31,5.31,0,0,0,12,6.5,5.46,5.46,0,0,0,6.5,12Z\"/>\n",
              "  </svg>\n",
              "    </button>\n",
              "    <script>\n",
              "      (() => {\n",
              "      const buttonEl =\n",
              "        document.querySelector('#id_5fb14841-b798-4fd0-a8e7-b1894d45feeb button.colab-df-generate');\n",
              "      buttonEl.style.display =\n",
              "        google.colab.kernel.accessAllowed ? 'block' : 'none';\n",
              "\n",
              "      buttonEl.onclick = () => {\n",
              "        google.colab.notebook.generateWithVariable('df');\n",
              "      }\n",
              "      })();\n",
              "    </script>\n",
              "  </div>\n",
              "\n",
              "    </div>\n",
              "  </div>\n"
            ],
            "application/vnd.google.colaboratory.intrinsic+json": {
              "type": "dataframe",
              "variable_name": "df"
            }
          },
          "metadata": {},
          "execution_count": 3
        }
      ]
    },
    {
      "cell_type": "code",
      "source": [
        "# Observing the unique values\n",
        "df.nunique()"
      ],
      "metadata": {
        "colab": {
          "base_uri": "https://localhost:8080/",
          "height": 398
        },
        "id": "DdcDNcfsT3td",
        "outputId": "9fff6d0f-1556-4040-dd9a-1a4536f5213a"
      },
      "execution_count": null,
      "outputs": [
        {
          "output_type": "execute_result",
          "data": {
            "text/plain": [
              "User_ID                        5891\n",
              "Product_ID                     3631\n",
              "Gender                            2\n",
              "Age                               7\n",
              "Occupation                       21\n",
              "City_Category                     3\n",
              "Stay_In_Current_City_Years        5\n",
              "Marital_Status                    2\n",
              "Product_Category                 20\n",
              "Purchase                      18105\n",
              "dtype: int64"
            ],
            "text/html": [
              "<div>\n",
              "<style scoped>\n",
              "    .dataframe tbody tr th:only-of-type {\n",
              "        vertical-align: middle;\n",
              "    }\n",
              "\n",
              "    .dataframe tbody tr th {\n",
              "        vertical-align: top;\n",
              "    }\n",
              "\n",
              "    .dataframe thead th {\n",
              "        text-align: right;\n",
              "    }\n",
              "</style>\n",
              "<table border=\"1\" class=\"dataframe\">\n",
              "  <thead>\n",
              "    <tr style=\"text-align: right;\">\n",
              "      <th></th>\n",
              "      <th>0</th>\n",
              "    </tr>\n",
              "  </thead>\n",
              "  <tbody>\n",
              "    <tr>\n",
              "      <th>User_ID</th>\n",
              "      <td>5891</td>\n",
              "    </tr>\n",
              "    <tr>\n",
              "      <th>Product_ID</th>\n",
              "      <td>3631</td>\n",
              "    </tr>\n",
              "    <tr>\n",
              "      <th>Gender</th>\n",
              "      <td>2</td>\n",
              "    </tr>\n",
              "    <tr>\n",
              "      <th>Age</th>\n",
              "      <td>7</td>\n",
              "    </tr>\n",
              "    <tr>\n",
              "      <th>Occupation</th>\n",
              "      <td>21</td>\n",
              "    </tr>\n",
              "    <tr>\n",
              "      <th>City_Category</th>\n",
              "      <td>3</td>\n",
              "    </tr>\n",
              "    <tr>\n",
              "      <th>Stay_In_Current_City_Years</th>\n",
              "      <td>5</td>\n",
              "    </tr>\n",
              "    <tr>\n",
              "      <th>Marital_Status</th>\n",
              "      <td>2</td>\n",
              "    </tr>\n",
              "    <tr>\n",
              "      <th>Product_Category</th>\n",
              "      <td>20</td>\n",
              "    </tr>\n",
              "    <tr>\n",
              "      <th>Purchase</th>\n",
              "      <td>18105</td>\n",
              "    </tr>\n",
              "  </tbody>\n",
              "</table>\n",
              "</div><br><label><b>dtype:</b> int64</label>"
            ]
          },
          "metadata": {},
          "execution_count": 4
        }
      ]
    },
    {
      "cell_type": "markdown",
      "source": [
        "**Observation**: There is no unique ID in the data set"
      ],
      "metadata": {
        "id": "2LPcs1H-UJ1Y"
      }
    },
    {
      "cell_type": "code",
      "source": [
        "#Observing the data types\n",
        "df.dtypes"
      ],
      "metadata": {
        "colab": {
          "base_uri": "https://localhost:8080/",
          "height": 398
        },
        "id": "8r2HUQpFRD5t",
        "outputId": "7005b7eb-191a-4aa8-aa83-f1e3dcdebe63"
      },
      "execution_count": null,
      "outputs": [
        {
          "output_type": "execute_result",
          "data": {
            "text/plain": [
              "User_ID                        int64\n",
              "Product_ID                    object\n",
              "Gender                        object\n",
              "Age                           object\n",
              "Occupation                     int64\n",
              "City_Category                 object\n",
              "Stay_In_Current_City_Years    object\n",
              "Marital_Status                 int64\n",
              "Product_Category               int64\n",
              "Purchase                       int64\n",
              "dtype: object"
            ],
            "text/html": [
              "<div>\n",
              "<style scoped>\n",
              "    .dataframe tbody tr th:only-of-type {\n",
              "        vertical-align: middle;\n",
              "    }\n",
              "\n",
              "    .dataframe tbody tr th {\n",
              "        vertical-align: top;\n",
              "    }\n",
              "\n",
              "    .dataframe thead th {\n",
              "        text-align: right;\n",
              "    }\n",
              "</style>\n",
              "<table border=\"1\" class=\"dataframe\">\n",
              "  <thead>\n",
              "    <tr style=\"text-align: right;\">\n",
              "      <th></th>\n",
              "      <th>0</th>\n",
              "    </tr>\n",
              "  </thead>\n",
              "  <tbody>\n",
              "    <tr>\n",
              "      <th>User_ID</th>\n",
              "      <td>int64</td>\n",
              "    </tr>\n",
              "    <tr>\n",
              "      <th>Product_ID</th>\n",
              "      <td>object</td>\n",
              "    </tr>\n",
              "    <tr>\n",
              "      <th>Gender</th>\n",
              "      <td>object</td>\n",
              "    </tr>\n",
              "    <tr>\n",
              "      <th>Age</th>\n",
              "      <td>object</td>\n",
              "    </tr>\n",
              "    <tr>\n",
              "      <th>Occupation</th>\n",
              "      <td>int64</td>\n",
              "    </tr>\n",
              "    <tr>\n",
              "      <th>City_Category</th>\n",
              "      <td>object</td>\n",
              "    </tr>\n",
              "    <tr>\n",
              "      <th>Stay_In_Current_City_Years</th>\n",
              "      <td>object</td>\n",
              "    </tr>\n",
              "    <tr>\n",
              "      <th>Marital_Status</th>\n",
              "      <td>int64</td>\n",
              "    </tr>\n",
              "    <tr>\n",
              "      <th>Product_Category</th>\n",
              "      <td>int64</td>\n",
              "    </tr>\n",
              "    <tr>\n",
              "      <th>Purchase</th>\n",
              "      <td>int64</td>\n",
              "    </tr>\n",
              "  </tbody>\n",
              "</table>\n",
              "</div><br><label><b>dtype:</b> object</label>"
            ]
          },
          "metadata": {},
          "execution_count": 5
        }
      ]
    },
    {
      "cell_type": "code",
      "source": [
        "#Observing Structure of the data set\n",
        "df.shape"
      ],
      "metadata": {
        "colab": {
          "base_uri": "https://localhost:8080/"
        },
        "id": "Q153UJwQRNsn",
        "outputId": "11aac2e7-b34b-4743-d2a9-a7019da684da"
      },
      "execution_count": null,
      "outputs": [
        {
          "output_type": "execute_result",
          "data": {
            "text/plain": [
              "(550068, 10)"
            ]
          },
          "metadata": {},
          "execution_count": 6
        }
      ]
    },
    {
      "cell_type": "markdown",
      "source": [
        "**Observation:** There are 550068 rows and 10 columns"
      ],
      "metadata": {
        "id": "PH88sLopUTDK"
      }
    },
    {
      "cell_type": "code",
      "source": [
        "#Observing duplicate values\n",
        "df.duplicated().sum()"
      ],
      "metadata": {
        "colab": {
          "base_uri": "https://localhost:8080/"
        },
        "id": "AqcHuKfpUaLE",
        "outputId": "ee48c486-a402-4fa2-f955-ccaf1280f7ec"
      },
      "execution_count": null,
      "outputs": [
        {
          "output_type": "execute_result",
          "data": {
            "text/plain": [
              "np.int64(0)"
            ]
          },
          "metadata": {},
          "execution_count": 7
        }
      ]
    },
    {
      "cell_type": "markdown",
      "source": [
        "Observation: There are no duplicate values"
      ],
      "metadata": {
        "id": "eqQuP6iqVFNK"
      }
    },
    {
      "cell_type": "code",
      "source": [
        "#Observing the missing values  of the data set\n",
        "df.isnull().sum()"
      ],
      "metadata": {
        "colab": {
          "base_uri": "https://localhost:8080/",
          "height": 398
        },
        "id": "QXrTcVbtRZDo",
        "outputId": "984ceb3d-d2ec-4932-b375-a6868f9388d5"
      },
      "execution_count": null,
      "outputs": [
        {
          "output_type": "execute_result",
          "data": {
            "text/plain": [
              "User_ID                       0\n",
              "Product_ID                    0\n",
              "Gender                        0\n",
              "Age                           0\n",
              "Occupation                    0\n",
              "City_Category                 0\n",
              "Stay_In_Current_City_Years    0\n",
              "Marital_Status                0\n",
              "Product_Category              0\n",
              "Purchase                      0\n",
              "dtype: int64"
            ],
            "text/html": [
              "<div>\n",
              "<style scoped>\n",
              "    .dataframe tbody tr th:only-of-type {\n",
              "        vertical-align: middle;\n",
              "    }\n",
              "\n",
              "    .dataframe tbody tr th {\n",
              "        vertical-align: top;\n",
              "    }\n",
              "\n",
              "    .dataframe thead th {\n",
              "        text-align: right;\n",
              "    }\n",
              "</style>\n",
              "<table border=\"1\" class=\"dataframe\">\n",
              "  <thead>\n",
              "    <tr style=\"text-align: right;\">\n",
              "      <th></th>\n",
              "      <th>0</th>\n",
              "    </tr>\n",
              "  </thead>\n",
              "  <tbody>\n",
              "    <tr>\n",
              "      <th>User_ID</th>\n",
              "      <td>0</td>\n",
              "    </tr>\n",
              "    <tr>\n",
              "      <th>Product_ID</th>\n",
              "      <td>0</td>\n",
              "    </tr>\n",
              "    <tr>\n",
              "      <th>Gender</th>\n",
              "      <td>0</td>\n",
              "    </tr>\n",
              "    <tr>\n",
              "      <th>Age</th>\n",
              "      <td>0</td>\n",
              "    </tr>\n",
              "    <tr>\n",
              "      <th>Occupation</th>\n",
              "      <td>0</td>\n",
              "    </tr>\n",
              "    <tr>\n",
              "      <th>City_Category</th>\n",
              "      <td>0</td>\n",
              "    </tr>\n",
              "    <tr>\n",
              "      <th>Stay_In_Current_City_Years</th>\n",
              "      <td>0</td>\n",
              "    </tr>\n",
              "    <tr>\n",
              "      <th>Marital_Status</th>\n",
              "      <td>0</td>\n",
              "    </tr>\n",
              "    <tr>\n",
              "      <th>Product_Category</th>\n",
              "      <td>0</td>\n",
              "    </tr>\n",
              "    <tr>\n",
              "      <th>Purchase</th>\n",
              "      <td>0</td>\n",
              "    </tr>\n",
              "  </tbody>\n",
              "</table>\n",
              "</div><br><label><b>dtype:</b> int64</label>"
            ]
          },
          "metadata": {},
          "execution_count": 8
        }
      ]
    },
    {
      "cell_type": "markdown",
      "source": [
        "**Observation:** There are no missing values in the data set"
      ],
      "metadata": {
        "id": "fbOF5r2vVLqj"
      }
    },
    {
      "cell_type": "markdown",
      "source": [
        "**Observing the outliers of the continuous variables using box plot**"
      ],
      "metadata": {
        "id": "sAq9ztwJR8IG"
      }
    },
    {
      "cell_type": "code",
      "source": [
        "# outliers for occupation\n",
        "\n",
        "sns.boxplot(data=df,y='Occupation')\n",
        "plt.title('Distribution of Occupations')\n",
        "plt.xlabel('Distribution')\n",
        "plt.ylabel('Occupation')"
      ],
      "metadata": {
        "colab": {
          "base_uri": "https://localhost:8080/",
          "height": 475
        },
        "id": "oHbEvXb3R70Y",
        "outputId": "fae44638-9273-4fee-c948-c8cc5266694b"
      },
      "execution_count": null,
      "outputs": [
        {
          "output_type": "execute_result",
          "data": {
            "text/plain": [
              "Text(0, 0.5, 'Occupation')"
            ]
          },
          "metadata": {},
          "execution_count": 60
        },
        {
          "output_type": "display_data",
          "data": {
            "text/plain": [
              "<Figure size 640x480 with 1 Axes>"
            ],
            "image/png": "[encoded data removed]"
          },
          "metadata": {}
        }
      ]
    },
    {
      "cell_type": "markdown",
      "source": [
        "Interpretation: There are no outliers in the data and distribution almost symmentrical inside the IQR because median is approximately closer to center and positively skewed outside the IQR as length of upper whisker is more"
      ],
      "metadata": {
        "id": "Y571F6KCTI9W"
      }
    },
    {
      "cell_type": "code",
      "source": [
        "#outliers for Purchase\n",
        "sns.boxplot(data=df,y='Purchase')\n",
        "plt.title('Distribution of Purchases')\n",
        "plt.xlabel('Distribution')\n",
        "plt.ylabel('Purchase')"
      ],
      "metadata": {
        "colab": {
          "base_uri": "https://localhost:8080/",
          "height": 475
        },
        "id": "JC827KRwTnEz",
        "outputId": "de8dcd5b-a9e0-4e8a-e094-a8c058f1bb1b"
      },
      "execution_count": null,
      "outputs": [
        {
          "output_type": "execute_result",
          "data": {
            "text/plain": [
              "Text(0, 0.5, 'Purchase')"
            ]
          },
          "metadata": {},
          "execution_count": 59
        },
        {
          "output_type": "display_data",
          "data": {
            "text/plain": [
              "<Figure size 640x480 with 1 Axes>"
            ],
            "image/png": "[encoded data removed]"
          },
          "metadata": {}
        }
      ]
    },
    {
      "cell_type": "markdown",
      "source": [
        "**Interpretation:** There are outliers in purchase column"
      ],
      "metadata": {
        "id": "MG6-UwC8ZWF0"
      }
    },
    {
      "cell_type": "code",
      "source": [
        "sns.boxplot(data=df,y='Product_Category')\n",
        "plt.title('Distribution of Product Categories')\n",
        "plt.xlabel('Distribution')\n",
        "plt.ylabel('Product Category')"
      ],
      "metadata": {
        "colab": {
          "base_uri": "https://localhost:8080/",
          "height": 475
        },
        "id": "Yy0fEXQFW-iY",
        "outputId": "cc2a99ac-ba67-4044-c095-04b4a29769cd"
      },
      "execution_count": null,
      "outputs": [
        {
          "output_type": "execute_result",
          "data": {
            "text/plain": [
              "Text(0, 0.5, 'Product Category')"
            ]
          },
          "metadata": {},
          "execution_count": 58
        },
        {
          "output_type": "display_data",
          "data": {
            "text/plain": [
              "<Figure size 640x480 with 1 Axes>"
            ],
            "image/png": "[encoded data removed]"
          },
          "metadata": {}
        }
      ]
    },
    {
      "cell_type": "markdown",
      "source": [
        "**Interpretation:** There are two outliers in product category"
      ],
      "metadata": {
        "id": "yLD7aU02Zcw8"
      }
    },
    {
      "cell_type": "code",
      "source": [
        "# Creating a new feature from Stay_In_Current_City_Years to check for outliers\n",
        "df['years'] = df['Stay_In_Current_City_Years'].str.replace('+', '', regex=False)\n",
        "df['years'] = pd.to_numeric(df['years'], errors='coerce')\n",
        "sns.boxplot(data=df,y='years')\n",
        "plt.title('Distribution of Years')\n",
        "plt.xlabel('Distribution')\n",
        "plt.ylabel('Years')"
      ],
      "metadata": {
        "colab": {
          "base_uri": "https://localhost:8080/",
          "height": 475
        },
        "id": "1RWRqngFXTL8",
        "outputId": "b815340b-71ee-46ca-e08d-cdf74c5afc22"
      },
      "execution_count": null,
      "outputs": [
        {
          "output_type": "execute_result",
          "data": {
            "text/plain": [
              "Text(0, 0.5, 'Years')"
            ]
          },
          "metadata": {},
          "execution_count": 57
        },
        {
          "output_type": "display_data",
          "data": {
            "text/plain": [
              "<Figure size 640x480 with 1 Axes>"
            ],
            "image/png": "[encoded data removed]"
          },
          "metadata": {}
        }
      ]
    },
    {
      "cell_type": "markdown",
      "source": [
        "**Interpretation**: There are no outliers in years column"
      ],
      "metadata": {
        "id": "9OPaySyVZxPP"
      }
    },
    {
      "cell_type": "markdown",
      "source": [
        "**Clipping the data between the 5 percentile and 95 percentile for product category and purchase**"
      ],
      "metadata": {
        "id": "bQNRP6GlZ3dA"
      }
    },
    {
      "cell_type": "code",
      "source": [
        "#clipping for product catergory\n",
        "lower_bound_cat=np.percentile(df['Product_Category'],5) # calculating 5th percentile\n",
        "Upper_bound_cat=np.percentile(df['Product_Category'],95) # calculating 95th percentile\n",
        "# creation of new variable with the clip function\n",
        "df['Product_Category_clipped']=np.clip(df['Product_Category'],lower_bound_cat,Upper_bound_cat)\n",
        "\n",
        "#clipping for Purchase\n",
        "lower_bound_pur=np.percentile(df['Purchase'],5)\n",
        "Upper_bound_pur=np.percentile(df['Purchase'],95)\n",
        "df['Purchase_clipped']=np.clip(df['Purchase'],lower_bound_pur,Upper_bound_pur)"
      ],
      "metadata": {
        "id": "P9cmXeKwaDu8"
      },
      "execution_count": null,
      "outputs": []
    },
    {
      "cell_type": "markdown",
      "source": [
        "**Data Exploration**"
      ],
      "metadata": {
        "id": "GzukWzMj0uH1"
      }
    },
    {
      "cell_type": "code",
      "source": [
        "# Finding the relationship between age bins and products\n",
        "df_age_products=df.groupby('Age')['Product_ID'].nunique().reset_index() # Grouping using age bins\n",
        "\n",
        "# Visual representation\n",
        "sns.barplot(data=df_age_products,x='Age',y='Product_ID')\n",
        "plt.title('Relationship Between Age and Products Count')\n",
        "plt.ylabel('Unique Products Count')\n",
        "\n"
      ],
      "metadata": {
        "colab": {
          "base_uri": "https://localhost:8080/",
          "height": 489
        },
        "id": "1L-lIZuL0wBl",
        "outputId": "768b2bea-e5e0-4cae-8b6f-80f519d373ec"
      },
      "execution_count": null,
      "outputs": [
        {
          "output_type": "execute_result",
          "data": {
            "text/plain": [
              "Text(0, 0.5, 'Unique Products Count')"
            ]
          },
          "metadata": {},
          "execution_count": 14
        },
        {
          "output_type": "display_data",
          "data": {
            "text/plain": [
              "<Figure size 640x480 with 1 Axes>"
            ],
            "image/png": "[encoded data removed]"
          },
          "metadata": {}
        }
      ]
    },
    {
      "cell_type": "markdown",
      "source": [
        "**Interpretation:**\n",
        "Purchasing trend is increasing till 35 years and then there is decline in the purchase"
      ],
      "metadata": {
        "id": "Pwpp8T3x6-A3"
      }
    },
    {
      "cell_type": "markdown",
      "source": [
        "**Finding relationship between age, marital status, and the amount spent**"
      ],
      "metadata": {
        "id": "jYzp-Wso8CQ6"
      }
    },
    {
      "cell_type": "code",
      "source": [
        "# Performing multi variable analysis by grouping age and marital status against purchase\n",
        "df_age_marital=df.groupby(by=['Age','Marital_Status'])['Purchase'].agg(['mean','nunique','std','median']).reset_index()\n",
        "\n",
        "# Visual Analysis\n",
        "sns.barplot(data=df_age_marital,x='Age',y='nunique',hue='Marital_Status')\n",
        "plt.title('Relationship between Age and Marital Status over Product Category')\n",
        "plt.xlabel('Age and Marital Status')\n",
        "plt.ylabel('Unique Produt Counts')"
      ],
      "metadata": {
        "colab": {
          "base_uri": "https://localhost:8080/",
          "height": 489
        },
        "id": "EBNV8QBz-Owc",
        "outputId": "abf27a2b-9e4b-4a6c-bd27-c8d421be26fd"
      },
      "execution_count": null,
      "outputs": [
        {
          "output_type": "execute_result",
          "data": {
            "text/plain": [
              "Text(0, 0.5, 'Unique Produt Counts')"
            ]
          },
          "metadata": {},
          "execution_count": 56
        },
        {
          "output_type": "display_data",
          "data": {
            "text/plain": [
              "<Figure size 640x480 with 1 Axes>"
            ],
            "image/png": "[encoded data removed]"
          },
          "metadata": {}
        }
      ]
    },
    {
      "cell_type": "markdown",
      "source": [
        "**Interpretation:** The plot reveals that the 26-35 and 36-45 age groups have the highest engagement with a diverse set of \"Product IDs,\" and marital status \"0\" generally shows a higher engagement with unique \"Product IDs\" across most age groups"
      ],
      "metadata": {
        "id": "XK0ZjUU5HCD0"
      }
    },
    {
      "cell_type": "markdown",
      "source": [
        "**Finding preferred product categories for different genders**"
      ],
      "metadata": {
        "id": "AabvlbHYKiiI"
      }
    },
    {
      "cell_type": "code",
      "source": [
        "df_gender_M=df[df['Gender']=='M'] # filtering data frame where gender is male\n",
        "#Visual Analysis\n",
        "sns.countplot(data=df_gender_M,x='Product_Category')\n",
        "plt.title('Relationship between Male and Product Category')\n",
        "plt.xlabel('Product Category')\n",
        "plt.ylabel('Frequency')"
      ],
      "metadata": {
        "colab": {
          "base_uri": "https://localhost:8080/",
          "height": 489
        },
        "id": "Vw6gfBf2KhZl",
        "outputId": "50a6d006-ef03-4f5c-e591-297e793949d0"
      },
      "execution_count": null,
      "outputs": [
        {
          "output_type": "execute_result",
          "data": {
            "text/plain": [
              "Text(0, 0.5, 'Frequency')"
            ]
          },
          "metadata": {},
          "execution_count": 53
        },
        {
          "output_type": "display_data",
          "data": {
            "text/plain": [
              "<Figure size 640x480 with 1 Axes>"
            ],
            "image/png": "[encoded data removed]"
          },
          "metadata": {}
        }
      ]
    },
    {
      "cell_type": "markdown",
      "source": [
        "**Interpretation:**\n",
        "The plot reveals a highly skewed distribution of product categories, with category 1 being exceptionally dominant, followed by category 5. Most other categories have relatively low frequencies."
      ],
      "metadata": {
        "id": "hEs0NxExUzIE"
      }
    },
    {
      "cell_type": "code",
      "source": [
        "df_gender_F=df[df['Gender']=='F'] # filtering data frame where gender is male\n",
        "#Visual Analysis\n",
        "sns.countplot(data=df_gender_F,x='Product_Category')\n",
        "plt.title('Relationship between Female and Product Category')\n",
        "plt.xlabel('Product Category')\n",
        "plt.ylabel('Frequency')"
      ],
      "metadata": {
        "colab": {
          "base_uri": "https://localhost:8080/",
          "height": 489
        },
        "id": "SKZFt-aqT4vG",
        "outputId": "4bd1393b-0b64-4ad6-e58a-29c6e6f2fe9a"
      },
      "execution_count": null,
      "outputs": [
        {
          "output_type": "execute_result",
          "data": {
            "text/plain": [
              "Text(0, 0.5, 'Frequency')"
            ]
          },
          "metadata": {},
          "execution_count": 52
        },
        {
          "output_type": "display_data",
          "data": {
            "text/plain": [
              "<Figure size 640x480 with 1 Axes>"
            ],
            "image/png": "[encoded data removed]"
          },
          "metadata": {}
        }
      ]
    },
    {
      "cell_type": "markdown",
      "source": [
        "**Interpretation:**\n",
        "\n",
        "The plot reveals a skewed distribution of product categories, with category 6 being the most dominant, followed by categories 8 and 1. Many other categories have relatively low frequencies."
      ],
      "metadata": {
        "id": "bGNuSURaVCDe"
      }
    },
    {
      "cell_type": "markdown",
      "source": [
        "# **Analysis of how gender affect the amount spent**"
      ],
      "metadata": {
        "id": "ECb4pTs4cXSO"
      }
    },
    {
      "cell_type": "code",
      "source": [
        "# calculating confidence interval using clt\n",
        "from scipy.stats import norm\n",
        "def clt_confidence_interval(data):\n",
        "  mean=round(np.mean(data),1)\n",
        "  standard_deviation=np.std(data,ddof=1)\n",
        "  n=len(data)\n",
        "  z_score=norm.ppf(0.975)\n",
        "  marginal_error=round((z_score*(standard_deviation/np.sqrt(n))),0)\n",
        "  return (mean-marginal_error,mean+marginal_error)\n",
        "\n",
        "\n",
        "#calculating bootstrap confidence interval\n",
        "def bootstrap_confidence_interval(data,iteration=1000):\n",
        "  means=[]\n",
        "  for i in range(iteration):\n",
        "    sample=np.random.choice(data,size=len(data),replace=True)\n",
        "    means.append(round(np.mean(sample),1))\n",
        "  return np.percentile(means,[2.5,97.5])\n",
        "\n",
        "#Analysing gender spending\n",
        "gender_values=df['Gender'].unique()\n",
        "sample_size=[len(df),300,3000,30000]\n",
        "for i in gender_values:\n",
        "  gender_data=df[df['Gender']==i]['Purchase']\n",
        "  print(f'\\nGender={i}:')\n",
        "  for j in sample_size:\n",
        "    if j<len(gender_data):\n",
        "        samples=np.random.choice(gender_data,size=j,replace=False)\n",
        "    else:\n",
        "        samples=gender_data\n",
        "    print(f'\\nSample Size={j}')\n",
        "    print(f'CLT Confidence Interval={clt_confidence_interval(samples)}')\n",
        "    print(f'Bootstrap Confidence Interval={bootstrap_confidence_interval(samples,iteration=1000)}')"
      ],
      "metadata": {
        "colab": {
          "base_uri": "https://localhost:8080/"
        },
        "id": "ONMg_TnEcb4l",
        "outputId": "11b3673a-350c-4496-c6b1-19d25fb499e3"
      },
      "execution_count": null,
      "outputs": [
        {
          "output_type": "stream",
          "name": "stdout",
          "text": [
            "\n",
            "Gender=F:\n",
            "\n",
            "Sample Size=550068\n",
            "CLT Confidence Interval=(np.float64(8709.6), np.float64(8759.6))\n",
            "Bootstrap Confidence Interval=[8709.285 8761.11 ]\n",
            "\n",
            "Sample Size=300\n",
            "CLT Confidence Interval=(np.float64(8044.5), np.float64(9040.5))\n",
            "Bootstrap Confidence Interval=[8056.57   9033.6425]\n",
            "\n",
            "Sample Size=3000\n",
            "CLT Confidence Interval=(np.float64(8532.5), np.float64(8872.5))\n",
            "Bootstrap Confidence Interval=[8528.955 8856.705]\n",
            "\n",
            "Sample Size=30000\n",
            "CLT Confidence Interval=(np.float64(8701.8), np.float64(8809.8))\n",
            "Bootstrap Confidence Interval=[8704.3975 8807.3075]\n",
            "\n",
            "Gender=M:\n",
            "\n",
            "Sample Size=550068\n",
            "CLT Confidence Interval=(np.float64(9421.5), np.float64(9453.5))\n",
            "Bootstrap Confidence Interval=[9422.2975 9454.3025]\n",
            "\n",
            "Sample Size=300\n",
            "CLT Confidence Interval=(np.float64(9078.5), np.float64(10176.5))\n",
            "Bootstrap Confidence Interval=[ 9090.385  10137.0375]\n",
            "\n",
            "Sample Size=3000\n",
            "CLT Confidence Interval=(np.float64(9392.3), np.float64(9758.3))\n",
            "Bootstrap Confidence Interval=[9393.59  9753.225]\n",
            "\n",
            "Sample Size=30000\n",
            "CLT Confidence Interval=(np.float64(9334.8), np.float64(9448.8))\n",
            "Bootstrap Confidence Interval=[9335.085  9449.0075]\n"
          ]
        }
      ]
    },
    {
      "cell_type": "markdown",
      "source": [
        "**Interpretation:**\n",
        "\n",
        "1.   **Analysing the confidence interval computed using the entire dataset wider for one of the genders**\n",
        "\n",
        " *   The CLT confidence interval for Gender=F (50) is wider than the CLT confidence interval for Gender=M (32).\n",
        "\n",
        " *   The Bootstrap confidence interval for Gender=F (51.22) is wider than the Bootstrap confidence interval for Gender=M (32)\n",
        "\n",
        " *   Therefore, the confidence intervals computed using the entire dataset (sample size 550068) are wider for Gender=F compared to Gender=M indicating less precise estimate of the average \"Amount Spent\" for Gender=F compared to Gender=M\n",
        "\n",
        "2.  **Effect on width of the confidence interval affected by the sample size**\n",
        "\n",
        " *   As the sample size increases, the width of the confidence interval decreases\n",
        " *   This confirms the inverse relationship between sample size and interval width indicating increased precision and reduced uncertainty in estimating the population mean\n",
        "\n",
        "\n",
        "3.  **An analysis of overlapping confidence intervals for different sample sizes**\n",
        "\n",
        " *   There are confidence intervals for different sample sizes overlap in the results\n",
        " *   This implies that while the precision of the mean estimate improves with larger sample sizes, there's still a range of values where the true population means could possibly lie for all the sample sizes\n",
        "\n",
        "\n",
        "4. **Analysis of sample size affect the shape of the distributions of the means**\n",
        "\n",
        " *   With very large sample sizes, the distribution of the means is very close to normal\n",
        " *   With small sample sizes, the distribution of the means can deviate from normal\n",
        " *   As the sample size increases, the distribution of the means converges towards a normal distribution, as predicted by the CLT"
      ],
      "metadata": {
        "id": "F7GPKSwB8ZdG"
      }
    },
    {
      "cell_type": "markdown",
      "source": [
        "# **Analysis of the Effect of Marital Status on Amount Spent**"
      ],
      "metadata": {
        "id": "mYGlIcBkSMy9"
      }
    },
    {
      "cell_type": "code",
      "source": [
        "#Analysing spending against marital status\n",
        "Marital_values=df['Marital_Status'].unique()\n",
        "sample_size=[len(df),300,3000,30000]\n",
        "for i in Marital_values:\n",
        "  Marital_data=df[df['Marital_Status']==i]['Purchase']\n",
        "  print(f'\\nMarriage Status={i}:')\n",
        "  for j in sample_size:\n",
        "    if j<len(Marital_data):\n",
        "        samples=np.random.choice(Marital_data,size=j,replace=False)\n",
        "    else:\n",
        "        samples=Marital_data\n",
        "    print(f'\\nSample Size={j}')\n",
        "    print(f'CLT Confidence Interval={clt_confidence_interval(samples)}')\n",
        "    print(f'Bootstrap Confidence Interval={bootstrap_confidence_interval(samples,iteration=1000)}')\n"
      ],
      "metadata": {
        "colab": {
          "base_uri": "https://localhost:8080/"
        },
        "id": "4O6zX1Wj7UlR",
        "outputId": "52b2ee96-ad9a-4e24-de2b-df137567d925"
      },
      "execution_count": null,
      "outputs": [
        {
          "output_type": "stream",
          "name": "stdout",
          "text": [
            "\n",
            "Marriage Status=0:\n",
            "\n",
            "Sample Size=550068\n",
            "CLT Confidence Interval=(np.float64(9248.9), np.float64(9282.9))\n",
            "Bootstrap Confidence Interval=[9249.2925 9282.9075]\n",
            "\n",
            "Sample Size=300\n",
            "CLT Confidence Interval=(np.float64(8901.2), np.float64(10055.2))\n",
            "Bootstrap Confidence Interval=[ 8893.705  10039.0175]\n",
            "\n",
            "Sample Size=3000\n",
            "CLT Confidence Interval=(np.float64(8943.8), np.float64(9299.8))\n",
            "Bootstrap Confidence Interval=[8945.2925 9302.165 ]\n",
            "\n",
            "Sample Size=30000\n",
            "CLT Confidence Interval=(np.float64(9193.0), np.float64(9307.0))\n",
            "Bootstrap Confidence Interval=[9195.5    9305.8075]\n",
            "\n",
            "Marriage Status=1:\n",
            "\n",
            "Sample Size=550068\n",
            "CLT Confidence Interval=(np.float64(9240.2), np.float64(9282.2))\n",
            "Bootstrap Confidence Interval=[9240.0975 9280.6025]\n",
            "\n",
            "Sample Size=300\n",
            "CLT Confidence Interval=(np.float64(8586.9), np.float64(9672.9))\n",
            "Bootstrap Confidence Interval=[8585.4325 9692.3675]\n",
            "\n",
            "Sample Size=3000\n",
            "CLT Confidence Interval=(np.float64(8968.4), np.float64(9322.4))\n",
            "Bootstrap Confidence Interval=[8966.0925 9311.8225]\n",
            "\n",
            "Sample Size=30000\n",
            "CLT Confidence Interval=(np.float64(9195.5), np.float64(9309.5))\n",
            "Bootstrap Confidence Interval=[9195.6925 9307.4025]\n"
          ]
        }
      ]
    },
    {
      "cell_type": "markdown",
      "source": [
        "**Interpretation:**\n",
        "\n",
        "1.   **Analysing the confidence interval computed using the entire dataset wider for Marital status**\n",
        "\n",
        " *   The CLT confidence interval for Marriage Status=1 (42) is slightly wider than the CLT confidence interval for Marriage Status=0 (34).\n",
        " *   The Bootstrap confidence interval for Marriage Status=1 (39.5025) is   slightly wider than the Bootstrap confidence interval for Marriage Status=0\n",
        "(34.6)\n",
        "\n",
        " *   Therefore, the confidence intervals computed using the entire dataset (sample size 550068) are slightly wider for Marriage Status=1 compared to Marriage Status=0 indicating  less precise estimate of the average \"Amount Spent\" for Marriage Status=1 compared to Marriage Status=0.\n",
        "\n",
        "\n",
        "2.  **Effect on width of the confidence interval affected by the sample size**\n",
        "\n",
        " *   As the sample size increases, the width of the confidence interval decreases.\n",
        " *   This confirms the inverse relationship between sample size and interval width indicating increased precision and reduced uncertainty in estimating the population mean.\n",
        "\n",
        "\n",
        "3.  **An analysis of overlapping confidence intervals for different sample sizes**\n",
        "\n",
        " *   There are confidence intervals for different sample sizes overlap in the results\n",
        " *   This implies that while the precision of the mean estimate improves with larger sample sizes, there's still a range of values where the true population means could possibly lie for all the sample sizes\n",
        "\n",
        "\n",
        "4. **Analysis of sample size affect the shape of the distributions of the means**\n",
        "\n",
        " *   With very large sample sizes, the distribution of the means is very close to normal\n",
        " *   With small sample sizes, the distribution of the means can deviate from normal\n",
        " *   As the sample size increases, the distribution of the means converges towards a normal distribution, as predicted by the CLT\n"
      ],
      "metadata": {
        "id": "Eqh7tn2VVuQV"
      }
    },
    {
      "cell_type": "markdown",
      "source": [
        "# **Analysis of the Effect of Age on Amount Spent**"
      ],
      "metadata": {
        "id": "EEK_EnCWgDib"
      }
    },
    {
      "cell_type": "code",
      "source": [
        "Age_values=df['Age'].unique()\n",
        "sample_size=[len(df),300,3000,30000]\n",
        "for i in Age_values:\n",
        "  Age_data=df[df['Age']==i]['Purchase']\n",
        "  print(f'\\nAge Bin={i}:')\n",
        "  for j in sample_size:\n",
        "    if j<=len(Age_data):\n",
        "\n",
        "      if j<len(Age_data):\n",
        "        samples=np.random.choice(Age_data,size=j,replace=False)\n",
        "      else:\n",
        "        samples=Age_data\n",
        "      print(f'\\nSample Size={j}')\n",
        "      print(f'CLT Confidence Interval={clt_confidence_interval(samples)}')\n",
        "      print(f'Bootstrap Confidence Interval={bootstrap_confidence_interval(samples,iteration=1000)}')\n",
        "    else:\n",
        "      print(f'Sample size={j}')\n",
        "      print('Sample size is greater than population')\n",
        "\n",
        "\n"
      ],
      "metadata": {
        "colab": {
          "base_uri": "https://localhost:8080/"
        },
        "id": "mSBMEV3mf_6Z",
        "outputId": "13a797d3-5764-4f93-dd2b-138fd6ba2c82"
      },
      "execution_count": null,
      "outputs": [
        {
          "output_type": "stream",
          "name": "stdout",
          "text": [
            "\n",
            "Age Bin=0-17:\n",
            "Sample size=550068\n",
            "Sample size is greater than population\n",
            "\n",
            "Sample Size=300\n",
            "CLT Confidence Interval=(np.float64(7919.5), np.float64(9101.5))\n",
            "Bootstrap Confidence Interval=[7909.4975 9136.0375]\n",
            "\n",
            "Sample Size=3000\n",
            "CLT Confidence Interval=(np.float64(8731.5), np.float64(9099.5))\n",
            "Bootstrap Confidence Interval=[8721.4975 9096.6575]\n",
            "Sample size=30000\n",
            "Sample size is greater than population\n",
            "\n",
            "Age Bin=55+:\n",
            "Sample size=550068\n",
            "Sample size is greater than population\n",
            "\n",
            "Sample Size=300\n",
            "CLT Confidence Interval=(np.float64(8969.0), np.float64(10059.0))\n",
            "Bootstrap Confidence Interval=[ 8984.395  10022.5125]\n",
            "\n",
            "Sample Size=3000\n",
            "CLT Confidence Interval=(np.float64(9446.7), np.float64(9822.7))\n",
            "Bootstrap Confidence Interval=[9441.465 9814.505]\n",
            "Sample size=30000\n",
            "Sample size is greater than population\n",
            "\n",
            "Age Bin=26-35:\n",
            "Sample size=550068\n",
            "Sample size is greater than population\n",
            "\n",
            "Sample Size=300\n",
            "CLT Confidence Interval=(np.float64(8274.0), np.float64(9434.0))\n",
            "Bootstrap Confidence Interval=[8310.3175 9392.965 ]\n",
            "\n",
            "Sample Size=3000\n",
            "CLT Confidence Interval=(np.float64(8992.3), np.float64(9348.3))\n",
            "Bootstrap Confidence Interval=[9001.395  9357.4175]\n",
            "\n",
            "Sample Size=30000\n",
            "CLT Confidence Interval=(np.float64(9137.3), np.float64(9249.3))\n",
            "Bootstrap Confidence Interval=[9138.38   9250.1025]\n",
            "\n",
            "Age Bin=46-50:\n",
            "Sample size=550068\n",
            "Sample size is greater than population\n",
            "\n",
            "Sample Size=300\n",
            "CLT Confidence Interval=(np.float64(8756.5), np.float64(9790.5))\n",
            "Bootstrap Confidence Interval=[8769.59  9760.695]\n",
            "\n",
            "Sample Size=3000\n",
            "CLT Confidence Interval=(np.float64(9010.3), np.float64(9364.3))\n",
            "Bootstrap Confidence Interval=[9018.48  9364.715]\n",
            "\n",
            "Sample Size=30000\n",
            "CLT Confidence Interval=(np.float64(9129.4), np.float64(9241.4))\n",
            "Bootstrap Confidence Interval=[9126.9875 9244.215 ]\n",
            "\n",
            "Age Bin=51-55:\n",
            "Sample size=550068\n",
            "Sample size is greater than population\n",
            "\n",
            "Sample Size=300\n",
            "CLT Confidence Interval=(np.float64(8867.3), np.float64(9973.3))\n",
            "Bootstrap Confidence Interval=[8857.7375 9966.3025]\n",
            "\n",
            "Sample Size=3000\n",
            "CLT Confidence Interval=(np.float64(9306.7), np.float64(9674.7))\n",
            "Bootstrap Confidence Interval=[9302.88 9688.27]\n",
            "\n",
            "Sample Size=30000\n",
            "CLT Confidence Interval=(np.float64(9462.5), np.float64(9578.5))\n",
            "Bootstrap Confidence Interval=[9463.1   9577.645]\n",
            "\n",
            "Age Bin=36-45:\n",
            "Sample size=550068\n",
            "Sample size is greater than population\n",
            "\n",
            "Sample Size=300\n",
            "CLT Confidence Interval=(np.float64(9069.0), np.float64(10145.0))\n",
            "Bootstrap Confidence Interval=[ 9064.45 10147.6 ]\n",
            "\n",
            "Sample Size=3000\n",
            "CLT Confidence Interval=(np.float64(9005.3), np.float64(9361.3))\n",
            "Bootstrap Confidence Interval=[9029.5   9370.525]\n",
            "\n",
            "Sample Size=30000\n",
            "CLT Confidence Interval=(np.float64(9288.8), np.float64(9402.8))\n",
            "Bootstrap Confidence Interval=[9288.095  9404.6125]\n",
            "\n",
            "Age Bin=18-25:\n",
            "Sample size=550068\n",
            "Sample size is greater than population\n",
            "\n",
            "Sample Size=300\n",
            "CLT Confidence Interval=(np.float64(8311.6), np.float64(9433.6))\n",
            "Bootstrap Confidence Interval=[8311.2375 9413.26  ]\n",
            "\n",
            "Sample Size=3000\n",
            "CLT Confidence Interval=(np.float64(8930.3), np.float64(9292.3))\n",
            "Bootstrap Confidence Interval=[8932.37   9286.0525]\n",
            "\n",
            "Sample Size=30000\n",
            "CLT Confidence Interval=(np.float64(9132.9), np.float64(9246.9))\n",
            "Bootstrap Confidence Interval=[9132.7975 9247.0075]\n"
          ]
        }
      ]
    },
    {
      "cell_type": "markdown",
      "source": [
        "**Interpretation:**\n",
        "\n",
        "1.   **Analysing the confidence interval computed using the entire dataset wider for Age bins**\n",
        "\n",
        " *   The code shows \"Sample size is greater than population\" for the entire dataset (Sample size=550068) in all age bins because the number of unique purchase values within each age bin is less than the total sample size of the original dataframe.\n",
        " *   It is only calculating the confidence intervals for the sample sizes of 300, 3000 and 30000. Therefore, we cannot compare the width of the confidence intervals of the entire dataset.\n",
        "\n",
        "2.  **Effect on width of the confidence interval affected by the sample size**\n",
        "\n",
        " *  As the sample size increases (from 300 to 3000 to 30000), the width of the confidence intervals generally decreases for both CLT and Bootstrap methods across all age bins.\n",
        " *  The confidence intervals for sample size 300 are the widest, and the intervals for sample size 30000 are the narrowest.\n",
        "\n",
        " * As the sample size increases, the width of the confidence interval decreases. This confirms the inverse relationship between sample size and interval width indicating increased precision and reduced uncertainty in estimating the population mean.\n",
        "\n",
        "3.  **An analysis of overlapping confidence intervals for different sample sizes**\n",
        "\n",
        " *   The intervals for the small sample size (300) have a large range, and therefore overlap with all of the other sample sizes. Also, the intervals calculated for the 3000 and 30000 sample sizes overlap.\n",
        "\n",
        " *   Overlapping confidence intervals indicate that there is no strong statistical evidence to suggest that the mean \"Purchase\" values are significantly different across the various sample sizes.\n",
        "\n",
        " *   This implies that while the precision of the mean estimate improves with larger sample sizes, there's still a range of values where the true population means could possibly lie for all the sample sizes\n",
        "\n",
        "4. **Analysis of sample size affect the shape of the distributions of the means**\n",
        "\n",
        " *   For larger sample sizes (30000), the CLT and Bootstrap confidence intervals are closer together, suggesting that the distribution of the means is approaching a normal distribution.\n",
        " *   For smaller sample sizes (300), there is a greater difference between the CLT and Bootstrap intervals, indicating potential deviations from normality.\n",
        " *   Therefore, as the sample size increases, the distribution of the means converges towards a normal distribution, as predicted by the CLT\n"
      ],
      "metadata": {
        "id": "OXOLm-fmleXa"
      }
    },
    {
      "cell_type": "markdown",
      "source": [
        "# **Creating the report**"
      ],
      "metadata": {
        "id": "TuzEgLuqooZs"
      }
    },
    {
      "cell_type": "markdown",
      "source": [
        "# **Analysis of The confidence intervals for the average amount spent by males and females**"
      ],
      "metadata": {
        "id": "eD-xCgwCowSz"
      }
    },
    {
      "cell_type": "markdown",
      "source": [
        "**Checking for overlapping:**\n",
        "*   The confidence interval for females is (8709.6, 8759.6) and The confidence interval for males is (9421.5, 9453.5)\n",
        "*   There is no overlap between these two intervals. The upper bound of the female interval (8759.6) is much lower than the lower bound of the male interval (9421.5).\n",
        "\n",
        "**Conclusion:**\n",
        "\n",
        "\n",
        "*   This suggests that there is a statistically significant difference in the average spending between males and females in this dataset. Specifically, males spend more than females.\n",
        "\n",
        "**Leveraging the conclusion:**\n",
        "\n",
        "\n",
        "*   Since males spend more on average, walmart could create promotions or product bundles that appeal specifically to male shoppers.\n",
        "*   For females, focus on value-oriented campaigns or promotions on items that are more frequently purchased by women.\n",
        "*   Walmart can improve the online and offline shopping experience to be more tailored to each gender\n",
        "*   Walmart can explore whether there are price sensitivities that differ between genders and also product categories that contribute to the spending differences between genders.\n"
      ],
      "metadata": {
        "id": "dHyHnSPco-XY"
      }
    },
    {
      "cell_type": "markdown",
      "source": [
        "# **Analysis of the confidence intervals for the average amount spent by married and unmarried individuals**"
      ],
      "metadata": {
        "id": "OWEMyRRXrtID"
      }
    },
    {
      "cell_type": "markdown",
      "source": [
        "**Checking for overlapping:**\n",
        "*   The confidence interval for unmarried individuals is (9248.9, 9282.9) and The confidence interval for married individuals is (9240.2, 9282.2)\n",
        "*   Therefore, it is accurate to say that the confidence interval for married individuals is lying within the confidence interval of unmarried individuals.\n",
        "\n",
        "**Conclusion:**\n",
        "\n",
        "*   This further emphasizes that there's no statistically significant difference in the average spending between the two groups implies that that the average spending of the married group could be the same as the unmarried group.\n",
        "\n",
        "**Leveraging the conclusion:**\n",
        "\n",
        "*   Instead of creating separate marketing campaigns tailored to married or unmarried individuals, Walmart should focus on broader, more inclusive campaigns.\n",
        "*   Use purchase history and browsing behavior to provide personalized recommendations, rather than relying on assumed marital status.\n",
        "*   Investigate if there are differences in what married and unmarried individuals purchase, even if the amount spent is similar.\n"
      ],
      "metadata": {
        "id": "3GA0o09Dr50B"
      }
    },
    {
      "cell_type": "markdown",
      "source": [
        "# **Analysis of the confidence intervals for the average amount spent by Age**"
      ],
      "metadata": {
        "id": "PkCcrv9QvEM8"
      }
    },
    {
      "cell_type": "markdown",
      "source": [
        "**Checking for overlapping:**\n",
        "\n",
        "*   we can make observations using the confidence intervals that were calculated for the smaller sample sizes (300, 3000, 30000) as all data intervals did not exist\n",
        "*   There is significant overlap between the confidence intervals of the following age ranges.\n",
        "   * age bin 26-35, 46-50, and 18-25 all have a very similar range, and therefore overlap.\n",
        "   * age bin 36-45 has a small overlap with the previously mentioned age ranges.\n",
        "   * age bin 51-55 is significantly higher than all of the other age ranges, and therefore does not overlap with the other age ranges.\n",
        "\n",
        "**Leveraging the conclusion:**   \n",
        "\n",
        "*   for age groups with overlapping intervals 26-35, 46-50, 18-25, and 36-45 targeted ads should be created , similarly for non-overlapping interval 51-55\n",
        "*   Walmart can analyze the specific products and categories that are popular among this age group"
      ],
      "metadata": {
        "id": "7_aV-6tYr2zp"
      }
    },
    {
      "cell_type": "markdown",
      "source": [
        "# **Recommendations**\n",
        "\n",
        "*   Gender has no similarity in purchase, so independent relevant products suggestions should be performed and focus more on type of product categories that are contributing more purchase value\n",
        "*   Married and un married individuals have no difference in purchase value, so intead of targeted ads, focus more on types and quantity of products purchase also track the browsing history and order history\n",
        "\n",
        "*   There are range of age having similar purchase value, promote products more useful and relevant for respective similar age bins\n",
        "*   As the analysis for age bins is performed with less sample size,performing the analysis with larger sample will produce more accurate results\n",
        "\n",
        "\n",
        "\n"
      ],
      "metadata": {
        "id": "p74w42cazOfj"
      }
    }
  ]
}