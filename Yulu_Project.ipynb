{
  "nbformat": 4,
  "nbformat_minor": 0,
  "metadata": {
    "colab": {
      "provenance": [],
      "authorship_tag": "ABX9TyOUDMvzbc98ZAEYCtCjIbGe"
    },
    "kernelspec": {
      "name": "python3",
      "display_name": "Python 3"
    },
    "language_info": {
      "name": "python"
    }
  },
  "cells": [
    {
      "cell_type": "markdown",
      "source": [
        "# **Problem Statement: Decline in Yulu company's revenues.**\n",
        "\n",
        "\n",
        "*  Every micro-mobility service provider wants to hold their customers for sustaining their business and thus this Yulu micro-mobility service provider. You have booking data of users at Yulu micro-mobility service provider with the aim of understanding\n",
        "\n",
        "*  Assess the impact of demographic factors like season, holiday, working day, weather on count of bookings\n",
        "\n",
        "*  Utilize your analytics skills to find factors contributing to potential decline in yulu company's revenue. This project provides an opportunity to enhance revenue enhancement strategies by uncovering patterns and insights within the dataset.\n",
        "\n",
        "\n",
        "\n",
        "\n",
        "\n"
      ],
      "metadata": {
        "id": "gCojAycrVwak"
      }
    },
    {
      "cell_type": "markdown",
      "source": [
        "# **Perform Exploratory Data Analysis**"
      ],
      "metadata": {
        "id": "3RTOmB-6SG6Z"
      }
    },
    {
      "cell_type": "markdown",
      "source": [
        "# **Importing the data set**"
      ],
      "metadata": {
        "id": "WnnjQ2qgaeRj"
      }
    },
    {
      "cell_type": "code",
      "execution_count": 9,
      "metadata": {
        "colab": {
          "base_uri": "https://localhost:8080/",
          "height": 206
        },
        "id": "SfbXKauCLSQS",
        "outputId": "ef3b0b30-35c0-4a15-b605-f188079d25f2"
      },
      "outputs": [
        {
          "output_type": "execute_result",
          "data": {
            "text/plain": [
              "              datetime  season  holiday  workingday  weather  temp   atemp  \\\n",
              "0  2011-01-01 00:00:00       1        0           0        1  9.84  14.395   \n",
              "1  2011-01-01 01:00:00       1        0           0        1  9.02  13.635   \n",
              "2  2011-01-01 02:00:00       1        0           0        1  9.02  13.635   \n",
              "3  2011-01-01 03:00:00       1        0           0        1  9.84  14.395   \n",
              "4  2011-01-01 04:00:00       1        0           0        1  9.84  14.395   \n",
              "\n",
              "   humidity  windspeed  casual  registered  count  \n",
              "0        81        0.0       3          13     16  \n",
              "1        80        0.0       8          32     40  \n",
              "2        80        0.0       5          27     32  \n",
              "3        75        0.0       3          10     13  \n",
              "4        75        0.0       0           1      1  "
            ],
            "text/html": [
              "\n",
              "  <div id=\"df-c9158e74-5f78-4bc2-a45c-46eb4308601e\" class=\"colab-df-container\">\n",
              "    <div>\n",
              "<style scoped>\n",
              "    .dataframe tbody tr th:only-of-type {\n",
              "        vertical-align: middle;\n",
              "    }\n",
              "\n",
              "    .dataframe tbody tr th {\n",
              "        vertical-align: top;\n",
              "    }\n",
              "\n",
              "    .dataframe thead th {\n",
              "        text-align: right;\n",
              "    }\n",
              "</style>\n",
              "<table border=\"1\" class=\"dataframe\">\n",
              "  <thead>\n",
              "    <tr style=\"text-align: right;\">\n",
              "      <th></th>\n",
              "      <th>datetime</th>\n",
              "      <th>season</th>\n",
              "      <th>holiday</th>\n",
              "      <th>workingday</th>\n",
              "      <th>weather</th>\n",
              "      <th>temp</th>\n",
              "      <th>atemp</th>\n",
              "      <th>humidity</th>\n",
              "      <th>windspeed</th>\n",
              "      <th>casual</th>\n",
              "      <th>registered</th>\n",
              "      <th>count</th>\n",
              "    </tr>\n",
              "  </thead>\n",
              "  <tbody>\n",
              "    <tr>\n",
              "      <th>0</th>\n",
              "      <td>2011-01-01 00:00:00</td>\n",
              "      <td>1</td>\n",
              "      <td>0</td>\n",
              "      <td>0</td>\n",
              "      <td>1</td>\n",
              "      <td>9.84</td>\n",
              "      <td>14.395</td>\n",
              "      <td>81</td>\n",
              "      <td>0.0</td>\n",
              "      <td>3</td>\n",
              "      <td>13</td>\n",
              "      <td>16</td>\n",
              "    </tr>\n",
              "    <tr>\n",
              "      <th>1</th>\n",
              "      <td>2011-01-01 01:00:00</td>\n",
              "      <td>1</td>\n",
              "      <td>0</td>\n",
              "      <td>0</td>\n",
              "      <td>1</td>\n",
              "      <td>9.02</td>\n",
              "      <td>13.635</td>\n",
              "      <td>80</td>\n",
              "      <td>0.0</td>\n",
              "      <td>8</td>\n",
              "      <td>32</td>\n",
              "      <td>40</td>\n",
              "    </tr>\n",
              "    <tr>\n",
              "      <th>2</th>\n",
              "      <td>2011-01-01 02:00:00</td>\n",
              "      <td>1</td>\n",
              "      <td>0</td>\n",
              "      <td>0</td>\n",
              "      <td>1</td>\n",
              "      <td>9.02</td>\n",
              "      <td>13.635</td>\n",
              "      <td>80</td>\n",
              "      <td>0.0</td>\n",
              "      <td>5</td>\n",
              "      <td>27</td>\n",
              "      <td>32</td>\n",
              "    </tr>\n",
              "    <tr>\n",
              "      <th>3</th>\n",
              "      <td>2011-01-01 03:00:00</td>\n",
              "      <td>1</td>\n",
              "      <td>0</td>\n",
              "      <td>0</td>\n",
              "      <td>1</td>\n",
              "      <td>9.84</td>\n",
              "      <td>14.395</td>\n",
              "      <td>75</td>\n",
              "      <td>0.0</td>\n",
              "      <td>3</td>\n",
              "      <td>10</td>\n",
              "      <td>13</td>\n",
              "    </tr>\n",
              "    <tr>\n",
              "      <th>4</th>\n",
              "      <td>2011-01-01 04:00:00</td>\n",
              "      <td>1</td>\n",
              "      <td>0</td>\n",
              "      <td>0</td>\n",
              "      <td>1</td>\n",
              "      <td>9.84</td>\n",
              "      <td>14.395</td>\n",
              "      <td>75</td>\n",
              "      <td>0.0</td>\n",
              "      <td>0</td>\n",
              "      <td>1</td>\n",
              "      <td>1</td>\n",
              "    </tr>\n",
              "  </tbody>\n",
              "</table>\n",
              "</div>\n",
              "    <div class=\"colab-df-buttons\">\n",
              "\n",
              "  <div class=\"colab-df-container\">\n",
              "    <button class=\"colab-df-convert\" onclick=\"convertToInteractive('df-c9158e74-5f78-4bc2-a45c-46eb4308601e')\"\n",
              "            title=\"Convert this dataframe to an interactive table.\"\n",
              "            style=\"display:none;\">\n",
              "\n",
              "  <svg xmlns=\"http://www.w3.org/2000/svg\" height=\"24px\" viewBox=\"0 -960 960 960\">\n",
              "    <path d=\"M120-120v-720h720v720H120Zm60-500h600v-160H180v160Zm220 220h160v-160H400v160Zm0 220h160v-160H400v160ZM180-400h160v-160H180v160Zm440 0h160v-160H620v160ZM180-180h160v-160H180v160Zm440 0h160v-160H620v160Z\"/>\n",
              "  </svg>\n",
              "    </button>\n",
              "\n",
              "  <style>\n",
              "    .colab-df-container {\n",
              "      display:flex;\n",
              "      gap: 12px;\n",
              "    }\n",
              "\n",
              "    .colab-df-convert {\n",
              "      background-color: #E8F0FE;\n",
              "      border: none;\n",
              "      border-radius: 50%;\n",
              "      cursor: pointer;\n",
              "      display: none;\n",
              "      fill: #1967D2;\n",
              "      height: 32px;\n",
              "      padding: 0 0 0 0;\n",
              "      width: 32px;\n",
              "    }\n",
              "\n",
              "    .colab-df-convert:hover {\n",
              "      background-color: #E2EBFA;\n",
              "      box-shadow: 0px 1px 2px rgba(60, 64, 67, 0.3), 0px 1px 3px 1px rgba(60, 64, 67, 0.15);\n",
              "      fill: #174EA6;\n",
              "    }\n",
              "\n",
              "    .colab-df-buttons div {\n",
              "      margin-bottom: 4px;\n",
              "    }\n",
              "\n",
              "    [theme=dark] .colab-df-convert {\n",
              "      background-color: #3B4455;\n",
              "      fill: #D2E3FC;\n",
              "    }\n",
              "\n",
              "    [theme=dark] .colab-df-convert:hover {\n",
              "      background-color: #434B5C;\n",
              "      box-shadow: 0px 1px 3px 1px rgba(0, 0, 0, 0.15);\n",
              "      filter: drop-shadow(0px 1px 2px rgba(0, 0, 0, 0.3));\n",
              "      fill: #FFFFFF;\n",
              "    }\n",
              "  </style>\n",
              "\n",
              "    <script>\n",
              "      const buttonEl =\n",
              "        document.querySelector('#df-c9158e74-5f78-4bc2-a45c-46eb4308601e button.colab-df-convert');\n",
              "      buttonEl.style.display =\n",
              "        google.colab.kernel.accessAllowed ? 'block' : 'none';\n",
              "\n",
              "      async function convertToInteractive(key) {\n",
              "        const element = document.querySelector('#df-c9158e74-5f78-4bc2-a45c-46eb4308601e');\n",
              "        const dataTable =\n",
              "          await google.colab.kernel.invokeFunction('convertToInteractive',\n",
              "                                                    [key], {});\n",
              "        if (!dataTable) return;\n",
              "\n",
              "        const docLinkHtml = 'Like what you see? Visit the ' +\n",
              "          '<a target=\"_blank\" href=https://colab.research.google.com/notebooks/data_table.ipynb>data table notebook</a>'\n",
              "          + ' to learn more about interactive tables.';\n",
              "        element.innerHTML = '';\n",
              "        dataTable['output_type'] = 'display_data';\n",
              "        await google.colab.output.renderOutput(dataTable, element);\n",
              "        const docLink = document.createElement('div');\n",
              "        docLink.innerHTML = docLinkHtml;\n",
              "        element.appendChild(docLink);\n",
              "      }\n",
              "    </script>\n",
              "  </div>\n",
              "\n",
              "\n",
              "<div id=\"df-616a2caf-668d-43d0-b3e5-d72c6d711e1a\">\n",
              "  <button class=\"colab-df-quickchart\" onclick=\"quickchart('df-616a2caf-668d-43d0-b3e5-d72c6d711e1a')\"\n",
              "            title=\"Suggest charts\"\n",
              "            style=\"display:none;\">\n",
              "\n",
              "<svg xmlns=\"http://www.w3.org/2000/svg\" height=\"24px\"viewBox=\"0 0 24 24\"\n",
              "     width=\"24px\">\n",
              "    <g>\n",
              "        <path d=\"M19 3H5c-1.1 0-2 .9-2 2v14c0 1.1.9 2 2 2h14c1.1 0 2-.9 2-2V5c0-1.1-.9-2-2-2zM9 17H7v-7h2v7zm4 0h-2V7h2v10zm4 0h-2v-4h2v4z\"/>\n",
              "    </g>\n",
              "</svg>\n",
              "  </button>\n",
              "\n",
              "<style>\n",
              "  .colab-df-quickchart {\n",
              "      --bg-color: #E8F0FE;\n",
              "      --fill-color: #1967D2;\n",
              "      --hover-bg-color: #E2EBFA;\n",
              "      --hover-fill-color: #174EA6;\n",
              "      --disabled-fill-color: #AAA;\n",
              "      --disabled-bg-color: #DDD;\n",
              "  }\n",
              "\n",
              "  [theme=dark] .colab-df-quickchart {\n",
              "      --bg-color: #3B4455;\n",
              "      --fill-color: #D2E3FC;\n",
              "      --hover-bg-color: #434B5C;\n",
              "      --hover-fill-color: #FFFFFF;\n",
              "      --disabled-bg-color: #3B4455;\n",
              "      --disabled-fill-color: #666;\n",
              "  }\n",
              "\n",
              "  .colab-df-quickchart {\n",
              "    background-color: var(--bg-color);\n",
              "    border: none;\n",
              "    border-radius: 50%;\n",
              "    cursor: pointer;\n",
              "    display: none;\n",
              "    fill: var(--fill-color);\n",
              "    height: 32px;\n",
              "    padding: 0;\n",
              "    width: 32px;\n",
              "  }\n",
              "\n",
              "  .colab-df-quickchart:hover {\n",
              "    background-color: var(--hover-bg-color);\n",
              "    box-shadow: 0 1px 2px rgba(60, 64, 67, 0.3), 0 1px 3px 1px rgba(60, 64, 67, 0.15);\n",
              "    fill: var(--button-hover-fill-color);\n",
              "  }\n",
              "\n",
              "  .colab-df-quickchart-complete:disabled,\n",
              "  .colab-df-quickchart-complete:disabled:hover {\n",
              "    background-color: var(--disabled-bg-color);\n",
              "    fill: var(--disabled-fill-color);\n",
              "    box-shadow: none;\n",
              "  }\n",
              "\n",
              "  .colab-df-spinner {\n",
              "    border: 2px solid var(--fill-color);\n",
              "    border-color: transparent;\n",
              "    border-bottom-color: var(--fill-color);\n",
              "    animation:\n",
              "      spin 1s steps(1) infinite;\n",
              "  }\n",
              "\n",
              "  @keyframes spin {\n",
              "    0% {\n",
              "      border-color: transparent;\n",
              "      border-bottom-color: var(--fill-color);\n",
              "      border-left-color: var(--fill-color);\n",
              "    }\n",
              "    20% {\n",
              "      border-color: transparent;\n",
              "      border-left-color: var(--fill-color);\n",
              "      border-top-color: var(--fill-color);\n",
              "    }\n",
              "    30% {\n",
              "      border-color: transparent;\n",
              "      border-left-color: var(--fill-color);\n",
              "      border-top-color: var(--fill-color);\n",
              "      border-right-color: var(--fill-color);\n",
              "    }\n",
              "    40% {\n",
              "      border-color: transparent;\n",
              "      border-right-color: var(--fill-color);\n",
              "      border-top-color: var(--fill-color);\n",
              "    }\n",
              "    60% {\n",
              "      border-color: transparent;\n",
              "      border-right-color: var(--fill-color);\n",
              "    }\n",
              "    80% {\n",
              "      border-color: transparent;\n",
              "      border-right-color: var(--fill-color);\n",
              "      border-bottom-color: var(--fill-color);\n",
              "    }\n",
              "    90% {\n",
              "      border-color: transparent;\n",
              "      border-bottom-color: var(--fill-color);\n",
              "    }\n",
              "  }\n",
              "</style>\n",
              "\n",
              "  <script>\n",
              "    async function quickchart(key) {\n",
              "      const quickchartButtonEl =\n",
              "        document.querySelector('#' + key + ' button');\n",
              "      quickchartButtonEl.disabled = true;  // To prevent multiple clicks.\n",
              "      quickchartButtonEl.classList.add('colab-df-spinner');\n",
              "      try {\n",
              "        const charts = await google.colab.kernel.invokeFunction(\n",
              "            'suggestCharts', [key], {});\n",
              "      } catch (error) {\n",
              "        console.error('Error during call to suggestCharts:', error);\n",
              "      }\n",
              "      quickchartButtonEl.classList.remove('colab-df-spinner');\n",
              "      quickchartButtonEl.classList.add('colab-df-quickchart-complete');\n",
              "    }\n",
              "    (() => {\n",
              "      let quickchartButtonEl =\n",
              "        document.querySelector('#df-616a2caf-668d-43d0-b3e5-d72c6d711e1a button');\n",
              "      quickchartButtonEl.style.display =\n",
              "        google.colab.kernel.accessAllowed ? 'block' : 'none';\n",
              "    })();\n",
              "  </script>\n",
              "</div>\n",
              "\n",
              "    </div>\n",
              "  </div>\n"
            ],
            "application/vnd.google.colaboratory.intrinsic+json": {
              "type": "dataframe",
              "variable_name": "df",
              "summary": "{\n  \"name\": \"df\",\n  \"rows\": 10886,\n  \"fields\": [\n    {\n      \"column\": \"datetime\",\n      \"properties\": {\n        \"dtype\": \"object\",\n        \"num_unique_values\": 10886,\n        \"samples\": [\n          \"2011-07-19 11:00:00\",\n          \"2012-01-16 06:00:00\",\n          \"2011-12-11 18:00:00\"\n        ],\n        \"semantic_type\": \"\",\n        \"description\": \"\"\n      }\n    },\n    {\n      \"column\": \"season\",\n      \"properties\": {\n        \"dtype\": \"number\",\n        \"std\": 1,\n        \"min\": 1,\n        \"max\": 4,\n        \"num_unique_values\": 4,\n        \"samples\": [\n          2,\n          4,\n          1\n        ],\n        \"semantic_type\": \"\",\n        \"description\": \"\"\n      }\n    },\n    {\n      \"column\": \"holiday\",\n      \"properties\": {\n        \"dtype\": \"number\",\n        \"std\": 0,\n        \"min\": 0,\n        \"max\": 1,\n        \"num_unique_values\": 2,\n        \"samples\": [\n          1,\n          0\n        ],\n        \"semantic_type\": \"\",\n        \"description\": \"\"\n      }\n    },\n    {\n      \"column\": \"workingday\",\n      \"properties\": {\n        \"dtype\": \"number\",\n        \"std\": 0,\n        \"min\": 0,\n        \"max\": 1,\n        \"num_unique_values\": 2,\n        \"samples\": [\n          1,\n          0\n        ],\n        \"semantic_type\": \"\",\n        \"description\": \"\"\n      }\n    },\n    {\n      \"column\": \"weather\",\n      \"properties\": {\n        \"dtype\": \"number\",\n        \"std\": 0,\n        \"min\": 1,\n        \"max\": 4,\n        \"num_unique_values\": 4,\n        \"samples\": [\n          2,\n          4\n        ],\n        \"semantic_type\": \"\",\n        \"description\": \"\"\n      }\n    },\n    {\n      \"column\": \"temp\",\n      \"properties\": {\n        \"dtype\": \"number\",\n        \"std\": 7.791589843987506,\n        \"min\": 0.82,\n        \"max\": 41.0,\n        \"num_unique_values\": 49,\n        \"samples\": [\n          6.56,\n          1.64\n        ],\n        \"semantic_type\": \"\",\n        \"description\": \"\"\n      }\n    },\n    {\n      \"column\": \"atemp\",\n      \"properties\": {\n        \"dtype\": \"number\",\n        \"std\": 8.474600626484888,\n        \"min\": 0.76,\n        \"max\": 45.455,\n        \"num_unique_values\": 60,\n        \"samples\": [\n          14.395,\n          16.665\n        ],\n        \"semantic_type\": \"\",\n        \"description\": \"\"\n      }\n    },\n    {\n      \"column\": \"humidity\",\n      \"properties\": {\n        \"dtype\": \"number\",\n        \"std\": 19,\n        \"min\": 0,\n        \"max\": 100,\n        \"num_unique_values\": 89,\n        \"samples\": [\n          29,\n          61\n        ],\n        \"semantic_type\": \"\",\n        \"description\": \"\"\n      }\n    },\n    {\n      \"column\": \"windspeed\",\n      \"properties\": {\n        \"dtype\": \"number\",\n        \"std\": 8.16453732683849,\n        \"min\": 0.0,\n        \"max\": 56.9969,\n        \"num_unique_values\": 28,\n        \"samples\": [\n          22.0028,\n          43.0006\n        ],\n        \"semantic_type\": \"\",\n        \"description\": \"\"\n      }\n    },\n    {\n      \"column\": \"casual\",\n      \"properties\": {\n        \"dtype\": \"number\",\n        \"std\": 49,\n        \"min\": 0,\n        \"max\": 367,\n        \"num_unique_values\": 309,\n        \"samples\": [\n          287,\n          47\n        ],\n        \"semantic_type\": \"\",\n        \"description\": \"\"\n      }\n    },\n    {\n      \"column\": \"registered\",\n      \"properties\": {\n        \"dtype\": \"number\",\n        \"std\": 151,\n        \"min\": 0,\n        \"max\": 886,\n        \"num_unique_values\": 731,\n        \"samples\": [\n          566,\n          9\n        ],\n        \"semantic_type\": \"\",\n        \"description\": \"\"\n      }\n    },\n    {\n      \"column\": \"count\",\n      \"properties\": {\n        \"dtype\": \"number\",\n        \"std\": 181,\n        \"min\": 1,\n        \"max\": 977,\n        \"num_unique_values\": 822,\n        \"samples\": [\n          626,\n          256\n        ],\n        \"semantic_type\": \"\",\n        \"description\": \"\"\n      }\n    }\n  ]\n}"
            }
          },
          "metadata": {},
          "execution_count": 9
        }
      ],
      "source": [
        "import pandas as pd\n",
        "import seaborn as sns\n",
        "import matplotlib.pyplot as plt\n",
        "import numpy as np\n",
        "df=pd.read_csv(\"https://d2beiqkhq929f0.cloudfront.net/public_assets/assets/000/001/428/original/bike_sharing.csv?1642089089\")\n",
        "df.head()"
      ]
    },
    {
      "cell_type": "code",
      "source": [
        "df.describe()\n"
      ],
      "metadata": {
        "colab": {
          "base_uri": "https://localhost:8080/",
          "height": 300
        },
        "id": "eXz_wcw_FILe",
        "outputId": "3f76ea47-088e-4821-cc65-4345de0c5ce5"
      },
      "execution_count": 10,
      "outputs": [
        {
          "output_type": "execute_result",
          "data": {
            "text/plain": [
              "             season       holiday    workingday       weather         temp  \\\n",
              "count  10886.000000  10886.000000  10886.000000  10886.000000  10886.00000   \n",
              "mean       2.506614      0.028569      0.680875      1.418427     20.23086   \n",
              "std        1.116174      0.166599      0.466159      0.633839      7.79159   \n",
              "min        1.000000      0.000000      0.000000      1.000000      0.82000   \n",
              "25%        2.000000      0.000000      0.000000      1.000000     13.94000   \n",
              "50%        3.000000      0.000000      1.000000      1.000000     20.50000   \n",
              "75%        4.000000      0.000000      1.000000      2.000000     26.24000   \n",
              "max        4.000000      1.000000      1.000000      4.000000     41.00000   \n",
              "\n",
              "              atemp      humidity     windspeed        casual    registered  \\\n",
              "count  10886.000000  10886.000000  10886.000000  10886.000000  10886.000000   \n",
              "mean      23.655084     61.886460     12.799395     36.021955    155.552177   \n",
              "std        8.474601     19.245033      8.164537     49.960477    151.039033   \n",
              "min        0.760000      0.000000      0.000000      0.000000      0.000000   \n",
              "25%       16.665000     47.000000      7.001500      4.000000     36.000000   \n",
              "50%       24.240000     62.000000     12.998000     17.000000    118.000000   \n",
              "75%       31.060000     77.000000     16.997900     49.000000    222.000000   \n",
              "max       45.455000    100.000000     56.996900    367.000000    886.000000   \n",
              "\n",
              "              count  \n",
              "count  10886.000000  \n",
              "mean     191.574132  \n",
              "std      181.144454  \n",
              "min        1.000000  \n",
              "25%       42.000000  \n",
              "50%      145.000000  \n",
              "75%      284.000000  \n",
              "max      977.000000  "
            ],
            "text/html": [
              "\n",
              "  <div id=\"df-62da71f5-3935-4c82-9efb-11211562db3e\" class=\"colab-df-container\">\n",
              "    <div>\n",
              "<style scoped>\n",
              "    .dataframe tbody tr th:only-of-type {\n",
              "        vertical-align: middle;\n",
              "    }\n",
              "\n",
              "    .dataframe tbody tr th {\n",
              "        vertical-align: top;\n",
              "    }\n",
              "\n",
              "    .dataframe thead th {\n",
              "        text-align: right;\n",
              "    }\n",
              "</style>\n",
              "<table border=\"1\" class=\"dataframe\">\n",
              "  <thead>\n",
              "    <tr style=\"text-align: right;\">\n",
              "      <th></th>\n",
              "      <th>season</th>\n",
              "      <th>holiday</th>\n",
              "      <th>workingday</th>\n",
              "      <th>weather</th>\n",
              "      <th>temp</th>\n",
              "      <th>atemp</th>\n",
              "      <th>humidity</th>\n",
              "      <th>windspeed</th>\n",
              "      <th>casual</th>\n",
              "      <th>registered</th>\n",
              "      <th>count</th>\n",
              "    </tr>\n",
              "  </thead>\n",
              "  <tbody>\n",
              "    <tr>\n",
              "      <th>count</th>\n",
              "      <td>10886.000000</td>\n",
              "      <td>10886.000000</td>\n",
              "      <td>10886.000000</td>\n",
              "      <td>10886.000000</td>\n",
              "      <td>10886.00000</td>\n",
              "      <td>10886.000000</td>\n",
              "      <td>10886.000000</td>\n",
              "      <td>10886.000000</td>\n",
              "      <td>10886.000000</td>\n",
              "      <td>10886.000000</td>\n",
              "      <td>10886.000000</td>\n",
              "    </tr>\n",
              "    <tr>\n",
              "      <th>mean</th>\n",
              "      <td>2.506614</td>\n",
              "      <td>0.028569</td>\n",
              "      <td>0.680875</td>\n",
              "      <td>1.418427</td>\n",
              "      <td>20.23086</td>\n",
              "      <td>23.655084</td>\n",
              "      <td>61.886460</td>\n",
              "      <td>12.799395</td>\n",
              "      <td>36.021955</td>\n",
              "      <td>155.552177</td>\n",
              "      <td>191.574132</td>\n",
              "    </tr>\n",
              "    <tr>\n",
              "      <th>std</th>\n",
              "      <td>1.116174</td>\n",
              "      <td>0.166599</td>\n",
              "      <td>0.466159</td>\n",
              "      <td>0.633839</td>\n",
              "      <td>7.79159</td>\n",
              "      <td>8.474601</td>\n",
              "      <td>19.245033</td>\n",
              "      <td>8.164537</td>\n",
              "      <td>49.960477</td>\n",
              "      <td>151.039033</td>\n",
              "      <td>181.144454</td>\n",
              "    </tr>\n",
              "    <tr>\n",
              "      <th>min</th>\n",
              "      <td>1.000000</td>\n",
              "      <td>0.000000</td>\n",
              "      <td>0.000000</td>\n",
              "      <td>1.000000</td>\n",
              "      <td>0.82000</td>\n",
              "      <td>0.760000</td>\n",
              "      <td>0.000000</td>\n",
              "      <td>0.000000</td>\n",
              "      <td>0.000000</td>\n",
              "      <td>0.000000</td>\n",
              "      <td>1.000000</td>\n",
              "    </tr>\n",
              "    <tr>\n",
              "      <th>25%</th>\n",
              "      <td>2.000000</td>\n",
              "      <td>0.000000</td>\n",
              "      <td>0.000000</td>\n",
              "      <td>1.000000</td>\n",
              "      <td>13.94000</td>\n",
              "      <td>16.665000</td>\n",
              "      <td>47.000000</td>\n",
              "      <td>7.001500</td>\n",
              "      <td>4.000000</td>\n",
              "      <td>36.000000</td>\n",
              "      <td>42.000000</td>\n",
              "    </tr>\n",
              "    <tr>\n",
              "      <th>50%</th>\n",
              "      <td>3.000000</td>\n",
              "      <td>0.000000</td>\n",
              "      <td>1.000000</td>\n",
              "      <td>1.000000</td>\n",
              "      <td>20.50000</td>\n",
              "      <td>24.240000</td>\n",
              "      <td>62.000000</td>\n",
              "      <td>12.998000</td>\n",
              "      <td>17.000000</td>\n",
              "      <td>118.000000</td>\n",
              "      <td>145.000000</td>\n",
              "    </tr>\n",
              "    <tr>\n",
              "      <th>75%</th>\n",
              "      <td>4.000000</td>\n",
              "      <td>0.000000</td>\n",
              "      <td>1.000000</td>\n",
              "      <td>2.000000</td>\n",
              "      <td>26.24000</td>\n",
              "      <td>31.060000</td>\n",
              "      <td>77.000000</td>\n",
              "      <td>16.997900</td>\n",
              "      <td>49.000000</td>\n",
              "      <td>222.000000</td>\n",
              "      <td>284.000000</td>\n",
              "    </tr>\n",
              "    <tr>\n",
              "      <th>max</th>\n",
              "      <td>4.000000</td>\n",
              "      <td>1.000000</td>\n",
              "      <td>1.000000</td>\n",
              "      <td>4.000000</td>\n",
              "      <td>41.00000</td>\n",
              "      <td>45.455000</td>\n",
              "      <td>100.000000</td>\n",
              "      <td>56.996900</td>\n",
              "      <td>367.000000</td>\n",
              "      <td>886.000000</td>\n",
              "      <td>977.000000</td>\n",
              "    </tr>\n",
              "  </tbody>\n",
              "</table>\n",
              "</div>\n",
              "    <div class=\"colab-df-buttons\">\n",
              "\n",
              "  <div class=\"colab-df-container\">\n",
              "    <button class=\"colab-df-convert\" onclick=\"convertToInteractive('df-62da71f5-3935-4c82-9efb-11211562db3e')\"\n",
              "            title=\"Convert this dataframe to an interactive table.\"\n",
              "            style=\"display:none;\">\n",
              "\n",
              "  <svg xmlns=\"http://www.w3.org/2000/svg\" height=\"24px\" viewBox=\"0 -960 960 960\">\n",
              "    <path d=\"M120-120v-720h720v720H120Zm60-500h600v-160H180v160Zm220 220h160v-160H400v160Zm0 220h160v-160H400v160ZM180-400h160v-160H180v160Zm440 0h160v-160H620v160ZM180-180h160v-160H180v160Zm440 0h160v-160H620v160Z\"/>\n",
              "  </svg>\n",
              "    </button>\n",
              "\n",
              "  <style>\n",
              "    .colab-df-container {\n",
              "      display:flex;\n",
              "      gap: 12px;\n",
              "    }\n",
              "\n",
              "    .colab-df-convert {\n",
              "      background-color: #E8F0FE;\n",
              "      border: none;\n",
              "      border-radius: 50%;\n",
              "      cursor: pointer;\n",
              "      display: none;\n",
              "      fill: #1967D2;\n",
              "      height: 32px;\n",
              "      padding: 0 0 0 0;\n",
              "      width: 32px;\n",
              "    }\n",
              "\n",
              "    .colab-df-convert:hover {\n",
              "      background-color: #E2EBFA;\n",
              "      box-shadow: 0px 1px 2px rgba(60, 64, 67, 0.3), 0px 1px 3px 1px rgba(60, 64, 67, 0.15);\n",
              "      fill: #174EA6;\n",
              "    }\n",
              "\n",
              "    .colab-df-buttons div {\n",
              "      margin-bottom: 4px;\n",
              "    }\n",
              "\n",
              "    [theme=dark] .colab-df-convert {\n",
              "      background-color: #3B4455;\n",
              "      fill: #D2E3FC;\n",
              "    }\n",
              "\n",
              "    [theme=dark] .colab-df-convert:hover {\n",
              "      background-color: #434B5C;\n",
              "      box-shadow: 0px 1px 3px 1px rgba(0, 0, 0, 0.15);\n",
              "      filter: drop-shadow(0px 1px 2px rgba(0, 0, 0, 0.3));\n",
              "      fill: #FFFFFF;\n",
              "    }\n",
              "  </style>\n",
              "\n",
              "    <script>\n",
              "      const buttonEl =\n",
              "        document.querySelector('#df-62da71f5-3935-4c82-9efb-11211562db3e button.colab-df-convert');\n",
              "      buttonEl.style.display =\n",
              "        google.colab.kernel.accessAllowed ? 'block' : 'none';\n",
              "\n",
              "      async function convertToInteractive(key) {\n",
              "        const element = document.querySelector('#df-62da71f5-3935-4c82-9efb-11211562db3e');\n",
              "        const dataTable =\n",
              "          await google.colab.kernel.invokeFunction('convertToInteractive',\n",
              "                                                    [key], {});\n",
              "        if (!dataTable) return;\n",
              "\n",
              "        const docLinkHtml = 'Like what you see? Visit the ' +\n",
              "          '<a target=\"_blank\" href=https://colab.research.google.com/notebooks/data_table.ipynb>data table notebook</a>'\n",
              "          + ' to learn more about interactive tables.';\n",
              "        element.innerHTML = '';\n",
              "        dataTable['output_type'] = 'display_data';\n",
              "        await google.colab.output.renderOutput(dataTable, element);\n",
              "        const docLink = document.createElement('div');\n",
              "        docLink.innerHTML = docLinkHtml;\n",
              "        element.appendChild(docLink);\n",
              "      }\n",
              "    </script>\n",
              "  </div>\n",
              "\n",
              "\n",
              "<div id=\"df-30163bd2-dd44-4227-b0f0-59455f5cbd75\">\n",
              "  <button class=\"colab-df-quickchart\" onclick=\"quickchart('df-30163bd2-dd44-4227-b0f0-59455f5cbd75')\"\n",
              "            title=\"Suggest charts\"\n",
              "            style=\"display:none;\">\n",
              "\n",
              "<svg xmlns=\"http://www.w3.org/2000/svg\" height=\"24px\"viewBox=\"0 0 24 24\"\n",
              "     width=\"24px\">\n",
              "    <g>\n",
              "        <path d=\"M19 3H5c-1.1 0-2 .9-2 2v14c0 1.1.9 2 2 2h14c1.1 0 2-.9 2-2V5c0-1.1-.9-2-2-2zM9 17H7v-7h2v7zm4 0h-2V7h2v10zm4 0h-2v-4h2v4z\"/>\n",
              "    </g>\n",
              "</svg>\n",
              "  </button>\n",
              "\n",
              "<style>\n",
              "  .colab-df-quickchart {\n",
              "      --bg-color: #E8F0FE;\n",
              "      --fill-color: #1967D2;\n",
              "      --hover-bg-color: #E2EBFA;\n",
              "      --hover-fill-color: #174EA6;\n",
              "      --disabled-fill-color: #AAA;\n",
              "      --disabled-bg-color: #DDD;\n",
              "  }\n",
              "\n",
              "  [theme=dark] .colab-df-quickchart {\n",
              "      --bg-color: #3B4455;\n",
              "      --fill-color: #D2E3FC;\n",
              "      --hover-bg-color: #434B5C;\n",
              "      --hover-fill-color: #FFFFFF;\n",
              "      --disabled-bg-color: #3B4455;\n",
              "      --disabled-fill-color: #666;\n",
              "  }\n",
              "\n",
              "  .colab-df-quickchart {\n",
              "    background-color: var(--bg-color);\n",
              "    border: none;\n",
              "    border-radius: 50%;\n",
              "    cursor: pointer;\n",
              "    display: none;\n",
              "    fill: var(--fill-color);\n",
              "    height: 32px;\n",
              "    padding: 0;\n",
              "    width: 32px;\n",
              "  }\n",
              "\n",
              "  .colab-df-quickchart:hover {\n",
              "    background-color: var(--hover-bg-color);\n",
              "    box-shadow: 0 1px 2px rgba(60, 64, 67, 0.3), 0 1px 3px 1px rgba(60, 64, 67, 0.15);\n",
              "    fill: var(--button-hover-fill-color);\n",
              "  }\n",
              "\n",
              "  .colab-df-quickchart-complete:disabled,\n",
              "  .colab-df-quickchart-complete:disabled:hover {\n",
              "    background-color: var(--disabled-bg-color);\n",
              "    fill: var(--disabled-fill-color);\n",
              "    box-shadow: none;\n",
              "  }\n",
              "\n",
              "  .colab-df-spinner {\n",
              "    border: 2px solid var(--fill-color);\n",
              "    border-color: transparent;\n",
              "    border-bottom-color: var(--fill-color);\n",
              "    animation:\n",
              "      spin 1s steps(1) infinite;\n",
              "  }\n",
              "\n",
              "  @keyframes spin {\n",
              "    0% {\n",
              "      border-color: transparent;\n",
              "      border-bottom-color: var(--fill-color);\n",
              "      border-left-color: var(--fill-color);\n",
              "    }\n",
              "    20% {\n",
              "      border-color: transparent;\n",
              "      border-left-color: var(--fill-color);\n",
              "      border-top-color: var(--fill-color);\n",
              "    }\n",
              "    30% {\n",
              "      border-color: transparent;\n",
              "      border-left-color: var(--fill-color);\n",
              "      border-top-color: var(--fill-color);\n",
              "      border-right-color: var(--fill-color);\n",
              "    }\n",
              "    40% {\n",
              "      border-color: transparent;\n",
              "      border-right-color: var(--fill-color);\n",
              "      border-top-color: var(--fill-color);\n",
              "    }\n",
              "    60% {\n",
              "      border-color: transparent;\n",
              "      border-right-color: var(--fill-color);\n",
              "    }\n",
              "    80% {\n",
              "      border-color: transparent;\n",
              "      border-right-color: var(--fill-color);\n",
              "      border-bottom-color: var(--fill-color);\n",
              "    }\n",
              "    90% {\n",
              "      border-color: transparent;\n",
              "      border-bottom-color: var(--fill-color);\n",
              "    }\n",
              "  }\n",
              "</style>\n",
              "\n",
              "  <script>\n",
              "    async function quickchart(key) {\n",
              "      const quickchartButtonEl =\n",
              "        document.querySelector('#' + key + ' button');\n",
              "      quickchartButtonEl.disabled = true;  // To prevent multiple clicks.\n",
              "      quickchartButtonEl.classList.add('colab-df-spinner');\n",
              "      try {\n",
              "        const charts = await google.colab.kernel.invokeFunction(\n",
              "            'suggestCharts', [key], {});\n",
              "      } catch (error) {\n",
              "        console.error('Error during call to suggestCharts:', error);\n",
              "      }\n",
              "      quickchartButtonEl.classList.remove('colab-df-spinner');\n",
              "      quickchartButtonEl.classList.add('colab-df-quickchart-complete');\n",
              "    }\n",
              "    (() => {\n",
              "      let quickchartButtonEl =\n",
              "        document.querySelector('#df-30163bd2-dd44-4227-b0f0-59455f5cbd75 button');\n",
              "      quickchartButtonEl.style.display =\n",
              "        google.colab.kernel.accessAllowed ? 'block' : 'none';\n",
              "    })();\n",
              "  </script>\n",
              "</div>\n",
              "\n",
              "    </div>\n",
              "  </div>\n"
            ],
            "application/vnd.google.colaboratory.intrinsic+json": {
              "type": "dataframe",
              "summary": "{\n  \"name\": \"df\",\n  \"rows\": 8,\n  \"fields\": [\n    {\n      \"column\": \"season\",\n      \"properties\": {\n        \"dtype\": \"number\",\n        \"std\": 3847.8922948663444,\n        \"min\": 1.0,\n        \"max\": 10886.0,\n        \"num_unique_values\": 7,\n        \"samples\": [\n          10886.0,\n          2.5066139996325556,\n          3.0\n        ],\n        \"semantic_type\": \"\",\n        \"description\": \"\"\n      }\n    },\n    {\n      \"column\": \"holiday\",\n      \"properties\": {\n        \"dtype\": \"number\",\n        \"std\": 3848.721860218128,\n        \"min\": 0.0,\n        \"max\": 10886.0,\n        \"num_unique_values\": 5,\n        \"samples\": [\n          0.02856880396839978,\n          1.0,\n          0.16659885062471985\n        ],\n        \"semantic_type\": \"\",\n        \"description\": \"\"\n      }\n    },\n    {\n      \"column\": \"workingday\",\n      \"properties\": {\n        \"dtype\": \"number\",\n        \"std\": 3848.5727758849694,\n        \"min\": 0.0,\n        \"max\": 10886.0,\n        \"num_unique_values\": 5,\n        \"samples\": [\n          0.6808745177291935,\n          1.0,\n          0.4661591687997421\n        ],\n        \"semantic_type\": \"\",\n        \"description\": \"\"\n      }\n    },\n    {\n      \"column\": \"weather\",\n      \"properties\": {\n        \"dtype\": \"number\",\n        \"std\": 3848.2241340817272,\n        \"min\": 0.6338385858190921,\n        \"max\": 10886.0,\n        \"num_unique_values\": 6,\n        \"samples\": [\n          10886.0,\n          1.418427337865148,\n          4.0\n        ],\n        \"semantic_type\": \"\",\n        \"description\": \"\"\n      }\n    },\n    {\n      \"column\": \"temp\",\n      \"properties\": {\n        \"dtype\": \"number\",\n        \"std\": 3842.2088126431295,\n        \"min\": 0.82,\n        \"max\": 10886.0,\n        \"num_unique_values\": 8,\n        \"samples\": [\n          20.23085981995223,\n          20.5,\n          10886.0\n        ],\n        \"semantic_type\": \"\",\n        \"description\": \"\"\n      }\n    },\n    {\n      \"column\": \"atemp\",\n      \"properties\": {\n        \"dtype\": \"number\",\n        \"std\": 3841.214609020895,\n        \"min\": 0.76,\n        \"max\": 10886.0,\n        \"num_unique_values\": 8,\n        \"samples\": [\n          23.655084052912,\n          24.24,\n          10886.0\n        ],\n        \"semantic_type\": \"\",\n        \"description\": \"\"\n      }\n    },\n    {\n      \"column\": \"humidity\",\n      \"properties\": {\n        \"dtype\": \"number\",\n        \"std\": 3830.3684503021896,\n        \"min\": 0.0,\n        \"max\": 10886.0,\n        \"num_unique_values\": 8,\n        \"samples\": [\n          61.88645967297446,\n          62.0,\n          10886.0\n        ],\n        \"semantic_type\": \"\",\n        \"description\": \"\"\n      }\n    },\n    {\n      \"column\": \"windspeed\",\n      \"properties\": {\n        \"dtype\": \"number\",\n        \"std\": 3843.014939445678,\n        \"min\": 0.0,\n        \"max\": 10886.0,\n        \"num_unique_values\": 8,\n        \"samples\": [\n          12.7993954069447,\n          12.998,\n          10886.0\n        ],\n        \"semantic_type\": \"\",\n        \"description\": \"\"\n      }\n    },\n    {\n      \"column\": \"casual\",\n      \"properties\": {\n        \"dtype\": \"number\",\n        \"std\": 3824.2753676913135,\n        \"min\": 0.0,\n        \"max\": 10886.0,\n        \"num_unique_values\": 8,\n        \"samples\": [\n          36.02195480433584,\n          17.0,\n          10886.0\n        ],\n        \"semantic_type\": \"\",\n        \"description\": \"\"\n      }\n    },\n    {\n      \"column\": \"registered\",\n      \"properties\": {\n        \"dtype\": \"number\",\n        \"std\": 3779.869612125704,\n        \"min\": 0.0,\n        \"max\": 10886.0,\n        \"num_unique_values\": 8,\n        \"samples\": [\n          155.5521771082124,\n          118.0,\n          10886.0\n        ],\n        \"semantic_type\": \"\",\n        \"description\": \"\"\n      }\n    },\n    {\n      \"column\": \"count\",\n      \"properties\": {\n        \"dtype\": \"number\",\n        \"std\": 3769.174237043881,\n        \"min\": 1.0,\n        \"max\": 10886.0,\n        \"num_unique_values\": 8,\n        \"samples\": [\n          191.57413191254824,\n          145.0,\n          10886.0\n        ],\n        \"semantic_type\": \"\",\n        \"description\": \"\"\n      }\n    }\n  ]\n}"
            }
          },
          "metadata": {},
          "execution_count": 10
        }
      ]
    },
    {
      "cell_type": "code",
      "source": [
        "df.isnull().sum()"
      ],
      "metadata": {
        "colab": {
          "base_uri": "https://localhost:8080/",
          "height": 460
        },
        "id": "eUvygaVYGFQy",
        "outputId": "b8454797-e5ab-4540-bbb0-e93fd3854249"
      },
      "execution_count": 11,
      "outputs": [
        {
          "output_type": "execute_result",
          "data": {
            "text/plain": [
              "datetime      0\n",
              "season        0\n",
              "holiday       0\n",
              "workingday    0\n",
              "weather       0\n",
              "temp          0\n",
              "atemp         0\n",
              "humidity      0\n",
              "windspeed     0\n",
              "casual        0\n",
              "registered    0\n",
              "count         0\n",
              "dtype: int64"
            ],
            "text/html": [
              "<div>\n",
              "<style scoped>\n",
              "    .dataframe tbody tr th:only-of-type {\n",
              "        vertical-align: middle;\n",
              "    }\n",
              "\n",
              "    .dataframe tbody tr th {\n",
              "        vertical-align: top;\n",
              "    }\n",
              "\n",
              "    .dataframe thead th {\n",
              "        text-align: right;\n",
              "    }\n",
              "</style>\n",
              "<table border=\"1\" class=\"dataframe\">\n",
              "  <thead>\n",
              "    <tr style=\"text-align: right;\">\n",
              "      <th></th>\n",
              "      <th>0</th>\n",
              "    </tr>\n",
              "  </thead>\n",
              "  <tbody>\n",
              "    <tr>\n",
              "      <th>datetime</th>\n",
              "      <td>0</td>\n",
              "    </tr>\n",
              "    <tr>\n",
              "      <th>season</th>\n",
              "      <td>0</td>\n",
              "    </tr>\n",
              "    <tr>\n",
              "      <th>holiday</th>\n",
              "      <td>0</td>\n",
              "    </tr>\n",
              "    <tr>\n",
              "      <th>workingday</th>\n",
              "      <td>0</td>\n",
              "    </tr>\n",
              "    <tr>\n",
              "      <th>weather</th>\n",
              "      <td>0</td>\n",
              "    </tr>\n",
              "    <tr>\n",
              "      <th>temp</th>\n",
              "      <td>0</td>\n",
              "    </tr>\n",
              "    <tr>\n",
              "      <th>atemp</th>\n",
              "      <td>0</td>\n",
              "    </tr>\n",
              "    <tr>\n",
              "      <th>humidity</th>\n",
              "      <td>0</td>\n",
              "    </tr>\n",
              "    <tr>\n",
              "      <th>windspeed</th>\n",
              "      <td>0</td>\n",
              "    </tr>\n",
              "    <tr>\n",
              "      <th>casual</th>\n",
              "      <td>0</td>\n",
              "    </tr>\n",
              "    <tr>\n",
              "      <th>registered</th>\n",
              "      <td>0</td>\n",
              "    </tr>\n",
              "    <tr>\n",
              "      <th>count</th>\n",
              "      <td>0</td>\n",
              "    </tr>\n",
              "  </tbody>\n",
              "</table>\n",
              "</div><br><label><b>dtype:</b> int64</label>"
            ]
          },
          "metadata": {},
          "execution_count": 11
        }
      ]
    },
    {
      "cell_type": "markdown",
      "source": [
        "## **Observations on shape of data, data types of all the attributes, conversion of categorical attributes to 'category' (If required) , missing value detection, statistical summary.**"
      ],
      "metadata": {
        "id": "24qIQWtsa4gn"
      }
    },
    {
      "cell_type": "code",
      "source": [
        "df.info()"
      ],
      "metadata": {
        "colab": {
          "base_uri": "https://localhost:8080/"
        },
        "id": "aVNtdVR3OlOj",
        "outputId": "e7bce8af-ff3e-44bb-aceb-d4a4d5eb42c1"
      },
      "execution_count": 12,
      "outputs": [
        {
          "output_type": "stream",
          "name": "stdout",
          "text": [
            "<class 'pandas.core.frame.DataFrame'>\n",
            "RangeIndex: 10886 entries, 0 to 10885\n",
            "Data columns (total 12 columns):\n",
            " #   Column      Non-Null Count  Dtype  \n",
            "---  ------      --------------  -----  \n",
            " 0   datetime    10886 non-null  object \n",
            " 1   season      10886 non-null  int64  \n",
            " 2   holiday     10886 non-null  int64  \n",
            " 3   workingday  10886 non-null  int64  \n",
            " 4   weather     10886 non-null  int64  \n",
            " 5   temp        10886 non-null  float64\n",
            " 6   atemp       10886 non-null  float64\n",
            " 7   humidity    10886 non-null  int64  \n",
            " 8   windspeed   10886 non-null  float64\n",
            " 9   casual      10886 non-null  int64  \n",
            " 10  registered  10886 non-null  int64  \n",
            " 11  count       10886 non-null  int64  \n",
            "dtypes: float64(3), int64(8), object(1)\n",
            "memory usage: 1020.7+ KB\n"
          ]
        }
      ]
    },
    {
      "cell_type": "markdown",
      "source": [
        "Observation: there are 12 columns and 10886 rows having zero null values consists of object, int64 and float64 datatypes"
      ],
      "metadata": {
        "id": "T01Z4mHLcWWv"
      }
    },
    {
      "cell_type": "markdown",
      "source": [
        "# Univariant Analysis : Distribution plots of all the continuous variable(s) barplots/countplots of all the categorical variables\n",
        "\n",
        "\n",
        "*   we performing univariant analysis on catergorical columns like season,working day and weather\n",
        "*   we are not considered other columns because they do not have significant effect on booking count and also we going accordingly columns that are mentioned in the problem statement\n",
        "\n"
      ],
      "metadata": {
        "id": "TCngqB6UdOac"
      }
    },
    {
      "cell_type": "markdown",
      "source": [
        "## Visual Analysis of season"
      ],
      "metadata": {
        "id": "1UB7d5SBlJt-"
      }
    },
    {
      "cell_type": "code",
      "source": [
        "#Visual Analysis of season\n",
        "import pandas as pd\n",
        "import seaborn as sns\n",
        "sns.countplot(x=df['season'])"
      ],
      "metadata": {
        "colab": {
          "base_uri": "https://localhost:8080/",
          "height": 466
        },
        "id": "lWyzBiOMcp55",
        "outputId": "15640d5c-c452-4a23-df7b-90a5a9175f5b"
      },
      "execution_count": 13,
      "outputs": [
        {
          "output_type": "execute_result",
          "data": {
            "text/plain": [
              "<Axes: xlabel='season', ylabel='count'>"
            ]
          },
          "metadata": {},
          "execution_count": 13
        },
        {
          "output_type": "display_data",
          "data": {
            "text/plain": [
              "<Figure size 640x480 with 1 Axes>"
            ],
            "image/png": "[encoded data removed]"
          },
          "metadata": {}
        }
      ]
    },
    {
      "cell_type": "code",
      "source": [
        "df['season'].value_counts()"
      ],
      "metadata": {
        "colab": {
          "base_uri": "https://localhost:8080/",
          "height": 241
        },
        "id": "k5Sky4s_fwfY",
        "outputId": "988b5df9-8d14-48b8-84a0-a942662b6d0c"
      },
      "execution_count": 14,
      "outputs": [
        {
          "output_type": "execute_result",
          "data": {
            "text/plain": [
              "season\n",
              "4    2734\n",
              "2    2733\n",
              "3    2733\n",
              "1    2686\n",
              "Name: count, dtype: int64"
            ],
            "text/html": [
              "<div>\n",
              "<style scoped>\n",
              "    .dataframe tbody tr th:only-of-type {\n",
              "        vertical-align: middle;\n",
              "    }\n",
              "\n",
              "    .dataframe tbody tr th {\n",
              "        vertical-align: top;\n",
              "    }\n",
              "\n",
              "    .dataframe thead th {\n",
              "        text-align: right;\n",
              "    }\n",
              "</style>\n",
              "<table border=\"1\" class=\"dataframe\">\n",
              "  <thead>\n",
              "    <tr style=\"text-align: right;\">\n",
              "      <th></th>\n",
              "      <th>count</th>\n",
              "    </tr>\n",
              "    <tr>\n",
              "      <th>season</th>\n",
              "      <th></th>\n",
              "    </tr>\n",
              "  </thead>\n",
              "  <tbody>\n",
              "    <tr>\n",
              "      <th>4</th>\n",
              "      <td>2734</td>\n",
              "    </tr>\n",
              "    <tr>\n",
              "      <th>2</th>\n",
              "      <td>2733</td>\n",
              "    </tr>\n",
              "    <tr>\n",
              "      <th>3</th>\n",
              "      <td>2733</td>\n",
              "    </tr>\n",
              "    <tr>\n",
              "      <th>1</th>\n",
              "      <td>2686</td>\n",
              "    </tr>\n",
              "  </tbody>\n",
              "</table>\n",
              "</div><br><label><b>dtype:</b> int64</label>"
            ]
          },
          "metadata": {},
          "execution_count": 14
        }
      ]
    },
    {
      "cell_type": "markdown",
      "source": [
        "Insight: Almost all the seasons have same number of rows, so in terms of distribution this feature is not biased"
      ],
      "metadata": {
        "id": "UCCXRCqBf534"
      }
    },
    {
      "cell_type": "markdown",
      "source": [
        "# Visual Analysis of working day"
      ],
      "metadata": {
        "id": "oMvhLMR4lVRm"
      }
    },
    {
      "cell_type": "code",
      "source": [
        "\n",
        "sns.countplot(x=df['workingday'])"
      ],
      "metadata": {
        "colab": {
          "base_uri": "https://localhost:8080/",
          "height": 466
        },
        "id": "llj-RB0AhyXw",
        "outputId": "dc0389b3-f88f-4676-b095-60937f3c66d6"
      },
      "execution_count": 15,
      "outputs": [
        {
          "output_type": "execute_result",
          "data": {
            "text/plain": [
              "<Axes: xlabel='workingday', ylabel='count'>"
            ]
          },
          "metadata": {},
          "execution_count": 15
        },
        {
          "output_type": "display_data",
          "data": {
            "text/plain": [
              "<Figure size 640x480 with 1 Axes>"
            ],
            "image/png": "[encoded data removed]"
          },
          "metadata": {}
        }
      ]
    },
    {
      "cell_type": "code",
      "source": [
        "df['workingday'].value_counts()"
      ],
      "metadata": {
        "colab": {
          "base_uri": "https://localhost:8080/",
          "height": 178
        },
        "id": "STmXrwdLiR0U",
        "outputId": "60a7e3b0-008c-490c-e6bd-f44895f0d084"
      },
      "execution_count": 16,
      "outputs": [
        {
          "output_type": "execute_result",
          "data": {
            "text/plain": [
              "workingday\n",
              "1    7412\n",
              "0    3474\n",
              "Name: count, dtype: int64"
            ],
            "text/html": [
              "<div>\n",
              "<style scoped>\n",
              "    .dataframe tbody tr th:only-of-type {\n",
              "        vertical-align: middle;\n",
              "    }\n",
              "\n",
              "    .dataframe tbody tr th {\n",
              "        vertical-align: top;\n",
              "    }\n",
              "\n",
              "    .dataframe thead th {\n",
              "        text-align: right;\n",
              "    }\n",
              "</style>\n",
              "<table border=\"1\" class=\"dataframe\">\n",
              "  <thead>\n",
              "    <tr style=\"text-align: right;\">\n",
              "      <th></th>\n",
              "      <th>count</th>\n",
              "    </tr>\n",
              "    <tr>\n",
              "      <th>workingday</th>\n",
              "      <th></th>\n",
              "    </tr>\n",
              "  </thead>\n",
              "  <tbody>\n",
              "    <tr>\n",
              "      <th>1</th>\n",
              "      <td>7412</td>\n",
              "    </tr>\n",
              "    <tr>\n",
              "      <th>0</th>\n",
              "      <td>3474</td>\n",
              "    </tr>\n",
              "  </tbody>\n",
              "</table>\n",
              "</div><br><label><b>dtype:</b> int64</label>"
            ]
          },
          "metadata": {},
          "execution_count": 16
        }
      ]
    },
    {
      "cell_type": "markdown",
      "source": [
        "Insight: It's clear that number of rows from non_working day(0) has significantly lower than that of working day, so size should be adjusted when performing the hypothesis testing to avoid bias"
      ],
      "metadata": {
        "id": "bsZYGXSBiZik"
      }
    },
    {
      "cell_type": "markdown",
      "source": [
        "## Visual analysis of weather"
      ],
      "metadata": {
        "id": "l_bQE7__lcg_"
      }
    },
    {
      "cell_type": "code",
      "source": [
        "\n",
        "sns.countplot(x=df['weather'])"
      ],
      "metadata": {
        "colab": {
          "base_uri": "https://localhost:8080/",
          "height": 466
        },
        "id": "TrAGoUfTj0-f",
        "outputId": "12f0d537-0657-4d9f-b81e-34b034d33e65"
      },
      "execution_count": 17,
      "outputs": [
        {
          "output_type": "execute_result",
          "data": {
            "text/plain": [
              "<Axes: xlabel='weather', ylabel='count'>"
            ]
          },
          "metadata": {},
          "execution_count": 17
        },
        {
          "output_type": "display_data",
          "data": {
            "text/plain": [
              "<Figure size 640x480 with 1 Axes>"
            ],
            "image/png": "[encoded data removed]"
          },
          "metadata": {}
        }
      ]
    },
    {
      "cell_type": "markdown",
      "source": [
        "Insight: from the graph, we can conclude that the count of weather 4 is negligible and counts for remaining weathers also varying so we take count of weather 3 for weather 1 and 2 to avoid bias when performing hypothesis testing"
      ],
      "metadata": {
        "id": "AZh6mA6skK5l"
      }
    },
    {
      "cell_type": "markdown",
      "source": [
        "# Bivariate Analysis : Relationships between important variables such as workday and count, season and count, weather and count."
      ],
      "metadata": {
        "id": "YGdkpyEQkmjh"
      }
    },
    {
      "cell_type": "markdown",
      "source": [
        "# Relationship between working day and count"
      ],
      "metadata": {
        "id": "08yJ2pdUlvz0"
      }
    },
    {
      "cell_type": "code",
      "source": [
        "df['workingday'].value_counts()\n",
        "df['count'].value_counts()\n",
        "working_day_graph=sns.boxplot(x=df['workingday'],y=df['count'])\n",
        "working_day_graph.set_title(\"Relationship between workingday and count\")"
      ],
      "metadata": {
        "colab": {
          "base_uri": "https://localhost:8080/",
          "height": 489
        },
        "id": "d22C82_AnbK6",
        "outputId": "e9bc0186-65f0-4151-d0da-b81c89e7281b"
      },
      "execution_count": 18,
      "outputs": [
        {
          "output_type": "execute_result",
          "data": {
            "text/plain": [
              "Text(0.5, 1.0, 'Relationship between workingday and count')"
            ]
          },
          "metadata": {},
          "execution_count": 18
        },
        {
          "output_type": "display_data",
          "data": {
            "text/plain": [
              "<Figure size 640x480 with 1 Axes>"
            ],
            "image/png": "[encoded data removed]"
          },
          "metadata": {}
        }
      ]
    },
    {
      "cell_type": "markdown",
      "source": [
        "**Insight**: we conclude that there is very negligible difference of counts between medians of working and non working days and we futher confirm this by performing a hypothesis test\n",
        "**Outliers**: we are not handling the outliers as the data is not that sensitive, so having the outliers give more comprehensive result"
      ],
      "metadata": {
        "id": "rhT2uXR7oaC7"
      }
    },
    {
      "cell_type": "markdown",
      "source": [
        "# Relationship between season and count"
      ],
      "metadata": {
        "id": "caR3ShP8o1DQ"
      }
    },
    {
      "cell_type": "code",
      "source": [
        "df['season'].value_counts()\n",
        "season_graph=sns.boxplot(x=df['season'],y=df['count'])\n",
        "season_graph.set_title(\"Relationship between season and count\")"
      ],
      "metadata": {
        "colab": {
          "base_uri": "https://localhost:8080/",
          "height": 489
        },
        "id": "7eWA83aFo-C4",
        "outputId": "41fd09dd-a432-46a2-cf0f-65084949ed30"
      },
      "execution_count": 19,
      "outputs": [
        {
          "output_type": "execute_result",
          "data": {
            "text/plain": [
              "Text(0.5, 1.0, 'Relationship between season and count')"
            ]
          },
          "metadata": {},
          "execution_count": 19
        },
        {
          "output_type": "display_data",
          "data": {
            "text/plain": [
              "<Figure size 640x480 with 1 Axes>"
            ],
            "image/png": "[encoded data removed]"
          },
          "metadata": {}
        }
      ]
    },
    {
      "cell_type": "markdown",
      "source": [
        "Insight: There slight variation in the medians of the seasons"
      ],
      "metadata": {
        "id": "3PNxZZ6Crc7a"
      }
    },
    {
      "cell_type": "markdown",
      "source": [],
      "metadata": {
        "id": "uanqk4DnrmoC"
      }
    },
    {
      "cell_type": "code",
      "source": [
        "weather_graph=sns.boxplot(x=df['weather'],y=df['count'])\n",
        "weather_graph.set_title('Relationship between weather and count')"
      ],
      "metadata": {
        "colab": {
          "base_uri": "https://localhost:8080/",
          "height": 489
        },
        "id": "K7bjTj1-rloz",
        "outputId": "ed3b5365-ea50-4aee-d4ea-c8b8eef8e3ba"
      },
      "execution_count": 20,
      "outputs": [
        {
          "output_type": "execute_result",
          "data": {
            "text/plain": [
              "Text(0.5, 1.0, 'Relationship between weather and count')"
            ]
          },
          "metadata": {},
          "execution_count": 20
        },
        {
          "output_type": "display_data",
          "data": {
            "text/plain": [
              "<Figure size 640x480 with 1 Axes>"
            ],
            "image/png": "[encoded data removed]"
          },
          "metadata": {}
        }
      ]
    },
    {
      "cell_type": "markdown",
      "source": [
        "Insight: Slight difference in medians of weathers 1,2 and 3 where as weather 4 has no data"
      ],
      "metadata": {
        "id": "Hh09D_N-spsG"
      }
    },
    {
      "cell_type": "markdown",
      "source": [
        "# Hypothesis Testing\n",
        "\n",
        "\n",
        "*   Performing hypothesis testing on features weather, season and working day to conclude how significantly there are impacting the count of bookings\n",
        "\n"
      ],
      "metadata": {
        "id": "OJtE4L3XtJ1T"
      }
    },
    {
      "cell_type": "markdown",
      "source": [
        "# Hypothesis Testing Workingday vs Count"
      ],
      "metadata": {
        "id": "byjDiI0PzbvL"
      }
    },
    {
      "cell_type": "code",
      "source": [
        "df['workingday'].value_counts()\n",
        "working_day=df.loc[df['workingday']==1, 'count'].sample(3472)\n",
        "non_working_day=df.loc[df['workingday']==0, 'count'].sample(3472)\n",
        "working_day_variance= working_day.var()\n",
        "non_working_day_variance= non_working_day.var()\n",
        "#print(round(non_working_day_variance,2))\n",
        "print(f'working_day_variance= {round(working_day_variance,2)} \\nnon_working_day_variance= {round(non_working_day_variance,2)}')\n"
      ],
      "metadata": {
        "colab": {
          "base_uri": "https://localhost:8080/"
        },
        "id": "bG-PQDaik0ai",
        "outputId": "88c8b2e1-05d9-4885-fbc6-e8e4c8473205"
      },
      "execution_count": 21,
      "outputs": [
        {
          "output_type": "stream",
          "name": "stdout",
          "text": [
            "working_day_variance= 34340.9 \n",
            "non_working_day_variance= 30156.92\n"
          ]
        }
      ]
    },
    {
      "cell_type": "markdown",
      "source": [
        "## INDEPENDENT T-TEST\n",
        "\n",
        "*   We are choosing **INDEPENDENT T-TEST**  because there are two catergorical columns \"working\" and \"non working days\" and one numerical column \"count\".\n",
        "\n",
        "*  **Assumptions**:\n",
        "\n",
        "\n",
        "1.   As the sample count is more than 30 its violating the assumption of t-test where sample size should be less than 30 but still we using t-test because the population standard deviation is not given\n",
        "2.   As sample size is more 30 , the distribution assumed to be normal according clt theorem and t-test behaves like z-test\n",
        "3.   As the sample size is more , the difference in variance will also negligible\n",
        "\n",
        "\n",
        "\n",
        "*   **Hypothesis**:\n",
        "\n",
        "1.   Null Hypothesis: Mean of count on working day is **less than or equal** to mean of count on non working day\n",
        "2.   Alternate Hypothesis: Mean of count on working day is** greater than**  mean of count non working day\n",
        "3.   signifance level=5%\n",
        "\n",
        "\n",
        "\n",
        "\n",
        "\n",
        "\n",
        "\n",
        "\n",
        "\n",
        "\n",
        "\n",
        "\n",
        "\n",
        "\n"
      ],
      "metadata": {
        "id": "vQZp-PBftuVg"
      }
    },
    {
      "cell_type": "markdown",
      "source": [
        "**Checking for variance equality using levene test**"
      ],
      "metadata": {
        "id": "vuUH-dzPHbY5"
      }
    },
    {
      "cell_type": "code",
      "source": [
        "from scipy.stats import levene\n",
        "statistic, p_value = levene(working_day, non_working_day)\n",
        "print(f'Levene test p-value: {p_value}')\n",
        "if p_value < 0.05:\n",
        "  print('Use equal_var=False')\n",
        "else:\n",
        "  print('Use equal_var=True')"
      ],
      "metadata": {
        "colab": {
          "base_uri": "https://localhost:8080/"
        },
        "id": "QfGz3lErGiwV",
        "outputId": "d7305dfa-af2e-4a06-e538-111747df34a6"
      },
      "execution_count": 22,
      "outputs": [
        {
          "output_type": "stream",
          "name": "stdout",
          "text": [
            "Levene test p-value: 0.9631966447139151\n",
            "Use equal_var=True\n"
          ]
        }
      ]
    },
    {
      "cell_type": "code",
      "source": [
        "from scipy.stats import ttest_ind\n",
        "significance_level=0.05\n",
        "test_value,p_value=ttest_ind(working_day,non_working_day,alternative='greater',equal_var=True)\n",
        "print(f\"test_stastic_value={test_value:.3f}, p_value={p_value:.3f}\")\n",
        "if p_value<significance_level:\n",
        "  print(f'p-value ({p_value:.4f}) < {significance_level}')\n",
        "  print('Conclusion:Null Hypothesis is rejected so Working Day has an effect on the number of electric cycles rented')\n",
        "else:\n",
        "  print(f'p-value ({p_value:.4f}) >= {significance_level}')\n",
        "  print('Conclusion:Failed to reject Null Hypothesis so Working Day has no effect on the number of electric cycles rented')\n"
      ],
      "metadata": {
        "colab": {
          "base_uri": "https://localhost:8080/"
        },
        "id": "vH-gGvLxymqz",
        "outputId": "7d67a646-ea50-4742-f28f-1e798b8195c8"
      },
      "execution_count": 34,
      "outputs": [
        {
          "output_type": "stream",
          "name": "stdout",
          "text": [
            "test_stastic_value=0.573, p_value=0.283\n",
            "p-value (0.2834) >= 0.05\n",
            "Conclusion:Failed to reject Null Hypothesis so Working Day has no effect on the number of electric cycles rented\n"
          ]
        }
      ]
    },
    {
      "cell_type": "markdown",
      "source": [
        "# **Hypothesis Testing on weather vs Count**"
      ],
      "metadata": {
        "id": "VfcsVFEY4w2U"
      }
    },
    {
      "cell_type": "code",
      "source": [
        "df['weather'].value_counts()\n",
        "df_weather=df[df['weather']!=4]\n",
        "df_weather['weather'].value_counts()\n",
        "df_weather_1=df.loc[df['weather']==1,'count']\n",
        "df_weather_2=df.loc[df['weather']==2,'count']\n",
        "df_weather_3=df.loc[df['weather']==3,'count']"
      ],
      "metadata": {
        "id": "yh8rwD-fwtUX"
      },
      "execution_count": 24,
      "outputs": []
    },
    {
      "cell_type": "markdown",
      "source": [
        "# **Anova Test on weather vs count:**\n",
        "We are performing anova test since there are 3 categorical groups\n"
      ],
      "metadata": {
        "id": "oPKIPJ9t67LK"
      }
    },
    {
      "cell_type": "markdown",
      "source": [
        "# **Testing Assumptions**\n",
        "1. Analysing whether the distribution is normal distribution or not and for this we are using shapiro test\n",
        "2. Analysing whether variance across groups is same or not using levene test"
      ],
      "metadata": {
        "id": "dXofdG127W3A"
      }
    },
    {
      "cell_type": "markdown",
      "source": [
        "# **Shapiro Test**\n",
        "\n",
        "\n",
        "\n",
        "*   Null Hypothesis: Distribution is normal\n",
        "*   Alternate Hypothesis: Distribution is not normal\n",
        "*   Significance level: 5%\n",
        "\n",
        "\n",
        "\n",
        "\n"
      ],
      "metadata": {
        "id": "wXS7fqlA71Fl"
      }
    },
    {
      "cell_type": "code",
      "source": [
        "Significance_level=0.05\n",
        "from scipy.stats import shapiro\n",
        "test_statistic_1,p_value_1=shapiro(df_weather_1)\n",
        "test_statistic_2,p_value_2=shapiro(df_weather_2)\n",
        "test_statistic_3,p_value_3=shapiro(df_weather_3)\n",
        "print(f\"test_stastic_value_1={test_statistic_1}, p_value_1={p_value_1}\")\n",
        "print(f\"test_stastic_value_2={test_statistic_2}, p_value_2={p_value_2}\")\n",
        "print(f\"test_stastic_value_3={test_statistic_3}, p_value_3={p_value_3}\")\n",
        "\n",
        "if p_value_1<significance_level:\n",
        "  print('Conclusion:Null Hypothesis is rejected so weather_1 Distribution is not normal')\n",
        "else:\n",
        "  print('Conclusion:Failed to reject Null Hypothesis so weather_1 Distribution is normal')\n",
        "if p_value_2<significance_level:\n",
        "  print('Conclusion:Null Hypothesis is rejected so weather_2 Distribution is not normal')\n",
        "else:\n",
        "  print('Conclusion:Failed to reject Null Hypothesis so weather_2 Distribution is normal')\n",
        "if p_value_3<significance_level:\n",
        "  print('Conclusion:Null Hypothesis is rejected so weather_3 Distribution is not normal')\n",
        "else:\n",
        "  print('Conclusion:Failed to reject Null Hypothesis so weather_3 Distribution is normal')"
      ],
      "metadata": {
        "id": "Vr5b8sC_73o1",
        "colab": {
          "base_uri": "https://localhost:8080/"
        },
        "outputId": "d8cbad59-87e8-40ee-bfd5-31ba7aa739f2"
      },
      "execution_count": 25,
      "outputs": [
        {
          "output_type": "stream",
          "name": "stdout",
          "text": [
            "test_stastic_value_1=0.8909259459740138, p_value_1=1.5964921477006555e-57\n",
            "test_stastic_value_2=0.8767694973495206, p_value_2=9.777839106111785e-43\n",
            "test_stastic_value_3=0.7674327906035717, p_value_3=3.875893017396149e-33\n",
            "Conclusion:Null Hypothesis is rejected so weather_1 Distribution is not normal\n",
            "Conclusion:Null Hypothesis is rejected so weather_2 Distribution is not normal\n",
            "Conclusion:Null Hypothesis is rejected so weather_3 Distribution is not normal\n"
          ]
        },
        {
          "output_type": "stream",
          "name": "stderr",
          "text": [
            "/usr/local/lib/python3.11/dist-packages/scipy/stats/_axis_nan_policy.py:573: UserWarning: scipy.stats.shapiro: For N > 5000, computed p-value may not be accurate. Current N is 7192.\n",
            "  res = hypotest_fun_out(*samples, **kwds)\n"
          ]
        }
      ]
    },
    {
      "cell_type": "markdown",
      "source": [
        "# **Levene Test for analysis variance**\n",
        "\n",
        "\n",
        "1.   Null Hypothesis :Variance of all groups are equal\n",
        "\n",
        "2.   Alternate Hypothesis: Variance of all groups are not equal\n",
        "3.   significance level: 5%\n",
        "\n",
        "\n"
      ],
      "metadata": {
        "id": "lKOhTNll-5fF"
      }
    },
    {
      "cell_type": "code",
      "source": [
        "significance_level=0.05\n",
        "from scipy.stats import levene\n",
        "levene_test_stat,P_value=levene(df_weather_1,df_weather_2,df_weather_3)\n",
        "print(f\"levene_test_stat={levene_test_stat}, P_value={P_value}\")\n",
        "if P_value<significance_level:\n",
        "  print('Conclusion: Null Hypothesis is rejected so Variance of all groups are not equal')\n",
        "else:\n",
        "  print('Conclusion: Failed to reject Null Hypothesis so Variance of all groups are equal')\n",
        "\n",
        "\n"
      ],
      "metadata": {
        "colab": {
          "base_uri": "https://localhost:8080/"
        },
        "id": "XTA4K4YZ_aY0",
        "outputId": "d6e6f0ed-928a-4bcd-dadc-7b08e6daf668"
      },
      "execution_count": 26,
      "outputs": [
        {
          "output_type": "stream",
          "name": "stdout",
          "text": [
            "levene_test_stat=81.67574924435011, P_value=6.198278710731511e-36\n",
            "Conclusion: Null Hypothesis is rejected so Variance of all groups are not equal\n"
          ]
        }
      ]
    },
    {
      "cell_type": "markdown",
      "source": [
        "# **Performing Anova test on weather groups**\n",
        "\n",
        "---\n",
        "\n",
        "*   Testing using Anova even though the assumptions are not satisfied because as the sample size is large the sample data is assumed to follow normal distribution according CLT theorem and unequal variance can be neglected\n",
        "*   As the assumptions are not satisfied ,instead of perfoming K-W test  which is a non-parametric test we are using anova parametric test because parametric tests are more powerful and accurate , so the future processing will also be accurate\n",
        "\n",
        "*   Null Hypothesis: Number of cycles rented is similar in different weathers\n",
        "*   Alternate Hypothesis: Number of cycles rented is different in different weathers\n",
        "\n",
        "\n"
      ],
      "metadata": {
        "id": "sPL1MXh1ATYk"
      }
    },
    {
      "cell_type": "code",
      "source": [
        "significance_level=0.05\n",
        "from scipy.stats import f_oneway\n",
        "anova_test_stats,p_value_anova=f_oneway(df_weather_1,df_weather_2,df_weather_3)\n",
        "print(f\"anova_test_stats={anova_test_stats:.3f}\")\n",
        "if p_value_anova<significance_level:\n",
        "  print(f'ANOVA p-value ({p_value_anova:.4e}) < {significance_level}')\n",
        "  print('Conclusion: Null Hypothesis is rejected so Number of cycles rented is different in different Weathers')\n",
        "  print('Further analysis, Tukey HSD is needed to determine which specific Weathers conditions differ')\n",
        "else:\n",
        "  print(f'ANOVA p-value ({p_value_anova:.4e}) >= {significance_level}')\n",
        "  print('Conclusion: Failed to reject Null Hypothesis so  Number of cycles rented is similar in different weathers')"
      ],
      "metadata": {
        "colab": {
          "base_uri": "https://localhost:8080/"
        },
        "id": "y6ZG14oMCx-_",
        "outputId": "143aa056-f4d6-4c38-c3f9-5748730f1293"
      },
      "execution_count": 38,
      "outputs": [
        {
          "output_type": "stream",
          "name": "stdout",
          "text": [
            "anova_test_stats=98.284\n",
            "ANOVA p-value (4.9764e-43) < 0.05\n",
            "Conclusion: Null Hypothesis is rejected so Number of cycles rented is different in different Weathers\n",
            "Further analysis, Tukey HSD is needed to determine which specific Weathers conditions differ\n"
          ]
        }
      ]
    },
    {
      "cell_type": "markdown",
      "source": [
        "# **Anova test on Seasons vs count**\n",
        "\n",
        "\n",
        "Testing the assumtions:\n",
        "\n",
        "\n",
        "*   Shapiro test for testing normality\n",
        "*   levene test for variance\n",
        "\n",
        "\n",
        "\n"
      ],
      "metadata": {
        "id": "8giIjNYTDsjq"
      }
    },
    {
      "cell_type": "markdown",
      "source": [
        "# **Shapiro test for testing normality of seasons vs count**"
      ],
      "metadata": {
        "id": "1wNmYbPoKXdl"
      }
    },
    {
      "cell_type": "code",
      "source": [
        "from scipy.stats import shapiro\n",
        "df['season'].value_counts()\n",
        "p_values={}\n",
        "significance_level=0.05\n",
        "for i in [1,2,3,4]:\n",
        "  season=df.loc[df['season']==i,'count'].sample(2686)\n",
        "  testvalue,p_value=shapiro(season)\n",
        "  p_values[f'season_{i}'] = p_value\n",
        "  if p_value < significance_level:\n",
        "    print(f\"Conclusion: Null Hypothesis is rejected so season_{i} Distribution is not normal\")\n",
        "  else:\n",
        "    print(f\"Conclusion: Failed to reject Null Hypothesis so season_{i} Distribution is normal\")\n",
        "print(p_values)"
      ],
      "metadata": {
        "id": "x3OtfPsIEnX1",
        "colab": {
          "base_uri": "https://localhost:8080/"
        },
        "outputId": "f166f3af-1f60-496a-ecaf-c6a253ef4efc"
      },
      "execution_count": 28,
      "outputs": [
        {
          "output_type": "stream",
          "name": "stdout",
          "text": [
            "Conclusion: Null Hypothesis is rejected so season_1 Distribution is not normal\n",
            "Conclusion: Null Hypothesis is rejected so season_2 Distribution is not normal\n",
            "Conclusion: Null Hypothesis is rejected so season_3 Distribution is not normal\n",
            "Conclusion: Null Hypothesis is rejected so season_4 Distribution is not normal\n",
            "{'season_1': np.float64(8.749584618865787e-49), 'season_2': np.float64(1.2881198662926955e-38), 'season_3': np.float64(1.2679827458415168e-36), 'season_4': np.float64(1.7033595383519282e-39)}\n"
          ]
        }
      ]
    },
    {
      "cell_type": "markdown",
      "source": [
        "# Levene Test for testing variance across seasons groups\n",
        "\n",
        "1.   Null Hypothesis: Variance across groups are same\n",
        "2.   Alternate Hypothesis: Variance across groups are not same\n",
        "3.   Significance level= 5%\n",
        "\n"
      ],
      "metadata": {
        "id": "ol3H7YXDKiq8"
      }
    },
    {
      "cell_type": "code",
      "source": [
        "significance_level=0.05\n",
        "season_1=df.loc[df['season']==1,'count'].sample(2686)\n",
        "season_2=df.loc[df['season']==2,'count'].sample(2686)\n",
        "season_3=df.loc[df['season']==3,'count'].sample(2686)\n",
        "season_test_value_variance,season_var_p_value=levene(season_1,season_2,season_3)\n",
        "print(f\"season_test_value_variance={season_test_value_variance}, season_var_p_value={season_var_p_value}\")\n",
        "if season_var_p_value<significance_level:\n",
        "  print('Conclusion: Null Hypothesis is rejected so Variance of all groups are not equal')\n",
        "else:\n",
        "  print('Conclusion: Failed to reject Null Hypothesis so Variance of all groups are equal')"
      ],
      "metadata": {
        "colab": {
          "base_uri": "https://localhost:8080/"
        },
        "id": "FTaWWTTKLIos",
        "outputId": "af5e639b-a37f-4f0a-d7aa-1cdd5cb21f97"
      },
      "execution_count": 29,
      "outputs": [
        {
          "output_type": "stream",
          "name": "stdout",
          "text": [
            "season_test_value_variance=281.04200904034764, season_var_p_value=1.0357688444666755e-118\n",
            "Conclusion: Null Hypothesis is rejected so Variance of all groups are not equal\n"
          ]
        }
      ]
    },
    {
      "cell_type": "markdown",
      "source": [
        "# **Performing Anova Test on seasons vs count**\n",
        "\n",
        "\n",
        "1.   similarly as mentioined in anova test of weather vs count, though the assumptions are failed, anova test is used for this test for the same reasons that are mentioned in anova test of weather vs count\n",
        "2.  Null Hypothesis: Number of cycles rented is similar in different seasons\n",
        "\n",
        "  Alternate Hypothesis: Number of cycles rented is different in different Seasons\n",
        "\n"
      ],
      "metadata": {
        "id": "kpnlrTeqMXYa"
      }
    },
    {
      "cell_type": "code",
      "source": [
        "significance_level=0.05\n",
        "from scipy.stats import f_oneway\n",
        "season_anova_test_stats,season_p_value_anova=f_oneway(season_1,season_2,season_3)\n",
        "print(f\"season_anova_test_stats={season_anova_test_stats:.3f}\")\n",
        "if season_p_value_anova<significance_level:\n",
        "  print(f'ANOVA p-value ({season_p_value_anova:.4e}) < {significance_level}')\n",
        "  print('Conclusion: Null Hypothesis is rejected so Number of cycles rented is different in different Seasons')\n",
        "  print('Further analysis, Tukey HSD is needed to determine which specific Seasons conditions differ')\n",
        "else:\n",
        "  print(f'ANOVA p-value ({season_p_value_anova:.4e}) >= {significance_level}')\n",
        "  print('Conclusion: Failed to reject Null Hypothesis so  Number of cycles rented is similar in different Seasons')"
      ],
      "metadata": {
        "colab": {
          "base_uri": "https://localhost:8080/"
        },
        "id": "YA1JGEumNLTL",
        "outputId": "e5d5dc3e-4930-450b-f723-d20feaab02a1"
      },
      "execution_count": 39,
      "outputs": [
        {
          "output_type": "stream",
          "name": "stdout",
          "text": [
            "season_anova_test_stats=355.164\n",
            "ANOVA p-value (1.5136e-148) < 0.05\n",
            "Conclusion: Null Hypothesis is rejected so Number of cycles rented is different in different Seasons\n",
            "Further analysis, Tukey HSD is needed to determine which specific Seasons conditions differ\n"
          ]
        }
      ]
    },
    {
      "cell_type": "markdown",
      "source": [
        "**Performing Tukey test on weathers and seasons**"
      ],
      "metadata": {
        "id": "RC05DuauR3Lj"
      }
    },
    {
      "cell_type": "code",
      "source": [
        "from scipy.stats import tukey_hsd\n",
        "# For weather\n",
        "weather_groups = [df_weather_1, df_weather_2, df_weather_3]\n",
        "tukey_results = tukey_hsd(*weather_groups)\n",
        "print(tukey_results)\n",
        "# For seasons\n",
        "season_groups = [season_1, season_2, season_3, df.loc[df['season']==4,'count'].sample(2686)]\n",
        "tukey_results_seasons = tukey_hsd(*season_groups)\n",
        "print(tukey_results_seasons)"
      ],
      "metadata": {
        "colab": {
          "base_uri": "https://localhost:8080/"
        },
        "id": "sUkHrDVrO-hI",
        "outputId": "4f86dc95-0ce5-4334-bac3-ab7d9429ce6c"
      },
      "execution_count": 40,
      "outputs": [
        {
          "output_type": "stream",
          "name": "stdout",
          "text": [
            "Tukey's HSD Pairwise Group Comparisons (95.0% Confidence Interval)\n",
            "Comparison  Statistic  p-value  Lower CI  Upper CI\n",
            " (0 - 1)     26.281     0.000    16.947    35.616\n",
            " (0 - 2)     86.390     0.000    71.197   101.584\n",
            " (1 - 0)    -26.281     0.000   -35.616   -16.947\n",
            " (1 - 2)     60.109     0.000    43.716    76.502\n",
            " (2 - 0)    -86.390     0.000  -101.584   -71.197\n",
            " (2 - 1)    -60.109     0.000   -76.502   -43.716\n",
            "\n",
            "Tukey's HSD Pairwise Group Comparisons (95.0% Confidence Interval)\n",
            "Comparison  Statistic  p-value  Lower CI  Upper CI\n",
            " (0 - 1)    -98.207     0.000  -110.471   -85.943\n",
            " (0 - 2)   -118.503     0.000  -130.767  -106.239\n",
            " (0 - 3)    -81.661     0.000   -93.925   -69.397\n",
            " (1 - 0)     98.207     0.000    85.943   110.471\n",
            " (1 - 2)    -20.296     0.000   -32.560    -8.032\n",
            " (1 - 3)     16.546     0.003     4.282    28.810\n",
            " (2 - 0)    118.503     0.000   106.239   130.767\n",
            " (2 - 1)     20.296     0.000     8.032    32.560\n",
            " (2 - 3)     36.842     0.000    24.578    49.106\n",
            " (3 - 0)     81.661     0.000    69.397    93.925\n",
            " (3 - 1)    -16.546     0.003   -28.810    -4.282\n",
            " (3 - 2)    -36.842     0.000   -49.106   -24.578\n",
            "\n"
          ]
        }
      ]
    },
    {
      "cell_type": "markdown",
      "source": [
        "# **Chi-square test on weather and season**\n",
        "\n",
        "\n",
        "1.   Selected chi-square test as two categorical columns are involved\n",
        "2.   Null Hypothesis: Weather and season are independent variables\n",
        "     Alternate Hypothesis: Weather and season are dependent variables\n",
        "3.   significance level= 5%     \n",
        "\n"
      ],
      "metadata": {
        "id": "71xARKadOBwE"
      }
    },
    {
      "cell_type": "code",
      "source": [
        "significance_level=0.05\n",
        "chi_square_table=pd.crosstab(index=df['season'],columns=df['weather'])\n",
        "chi_square_table\n",
        "from scipy.stats import chi2_contingency\n",
        "chi_test_value,chi_p_value,dof,expected_value=chi2_contingency(chi_square_table)\n",
        "print(f\"chi_test_value={chi_test_value}, chi_p_value={chi_p_value}\")\n",
        "if chi_p_value<significance_level:\n",
        "  print('Conclusion: Null Hypothesis is rejected so Weather and season are dependent variables')\n",
        "else:\n",
        "  print('Conclusion: Failed to reject Null Hypothesis so Weather and season are independent variables')"
      ],
      "metadata": {
        "colab": {
          "base_uri": "https://localhost:8080/"
        },
        "id": "x_8GxSqjPKu4",
        "outputId": "337b688a-1056-43fa-dcf2-01d27bc34ad4"
      },
      "execution_count": 31,
      "outputs": [
        {
          "output_type": "stream",
          "name": "stdout",
          "text": [
            "chi_test_value=49.158655596893624, chi_p_value=1.549925073686492e-07\n",
            "Conclusion: Null Hypothesis is rejected so Weather and season are dependent variables\n"
          ]
        }
      ]
    },
    {
      "cell_type": "markdown",
      "source": [
        "**Calculation of Cramers V**"
      ],
      "metadata": {
        "id": "GujHm2gfvfDf"
      }
    },
    {
      "cell_type": "code",
      "source": [
        "from scipy.stats import chi2_contingency\n",
        "import numpy as np\n",
        "chi2, p, dof, expected = chi2_contingency(chi_square_table)\n",
        "n = np.sum(chi_square_table.values)\n",
        "cramer_v = np.sqrt(chi2 / (n * (min(chi_square_table.shape) - 1)))\n",
        "print(f'Cramers V: {cramer_v:.4f}')\n",
        "if cramer_v < 0.1:\n",
        "      print('Weak association')\n",
        "elif cramer_v < 0.3:\n",
        "      print('Moderate association')\n",
        "else:\n",
        "      print('Strong association')"
      ],
      "metadata": {
        "colab": {
          "base_uri": "https://localhost:8080/"
        },
        "id": "npZ49gQ6TI4M",
        "outputId": "9e395245-074a-4e50-ccdc-d1eec0431178"
      },
      "execution_count": 41,
      "outputs": [
        {
          "output_type": "stream",
          "name": "stdout",
          "text": [
            "Cramers V: 0.0388\n",
            "Weak association\n"
          ]
        }
      ]
    },
    {
      "cell_type": "markdown",
      "source": [
        "**Analysis of expected frequency**"
      ],
      "metadata": {
        "id": "ZKcV8SQwvmk7"
      }
    },
    {
      "cell_type": "code",
      "source": [
        "expected_freq = chi2_contingency(chi_square_table)[3]\n",
        "print('Cells with expected frequency < 5:')\n",
        "print(np.sum(expected_freq < 5))\n",
        "print('Percentage of cells with expected frequency < 5:')\n",
        "print(np.mean(expected_freq < 5) * 100)\n",
        "if np.mean(expected_freq < 5) > 0.2:\n",
        "  print('Warning: More than 20% of cells have expected frequency < 5')\n",
        "  print('Consider combining categories or using Fishers exact test')"
      ],
      "metadata": {
        "colab": {
          "base_uri": "https://localhost:8080/"
        },
        "id": "hceXeP0ItcsT",
        "outputId": "60f96341-02e4-48e5-fad5-ce8846809760"
      },
      "execution_count": 42,
      "outputs": [
        {
          "output_type": "stream",
          "name": "stdout",
          "text": [
            "Cells with expected frequency < 5:\n",
            "4\n",
            "Percentage of cells with expected frequency < 5:\n",
            "25.0\n",
            "Warning: More than 20% of cells have expected frequency < 5\n",
            "Consider combining categories or using Fishers exact test\n"
          ]
        }
      ]
    },
    {
      "cell_type": "markdown",
      "source": [
        "# **Observation & Recommendation:**\n",
        "The number of cycles rented is dependent on weather and seasons, also weather and seasons both dependent on each other\n",
        "\n",
        "# **Recommendation:**\n",
        "\n",
        "\n",
        "1. **As number of cycles rented is dependent on seasons:**\n",
        "\n",
        "  *   so Increase rental prices during peak seasons and offer discounts in off season\n",
        "  *   Increase bike availability in peak seasons and decrease the count in off season\n",
        "\n",
        "  *   Target advertising efforts based on high-demand seasons and provide weather-appropriate offers, such as rain gear discounts for monsoon seasons.\n",
        "  *   Collaborate with tourism companies, hotels, or fitness clubs to attract riders in low-demand seasons.\n",
        "\n",
        "\n",
        "2. **As number of cycles rented is dependent on weather:**\n",
        "\n",
        "  *   Increase prices in good weather and offer discounts in bad weather\n",
        "  *   Send real-time alerts to users about weather & cycling conditions by partnering with weather apps\n",
        "\n",
        "  *   Promote outdoor fitness & eco-friendly commuting during summers and raincoats during rainy days and winter wear during winter days\n",
        "\n",
        "3. As weather and season are dependent on each other look for the combinations of weather and season like during summer and sunny days price and cycles count can be increased and relevent advertisements can be promoted, in the same way identify non peak combination and decreae the price and cycles count and increase the offers for the commuters\n",
        "\n",
        "\n",
        "# **Conclusion:**\n",
        "\n",
        "Decline in count of booking the cycles makes a significant impact on firm reputation and leads to financial loss and in order to deal with this crisis a comprehensive data analysis needed for making an informed decision by decision makers\n",
        "\n"
      ],
      "metadata": {
        "id": "Ue3_IjsfSV1S"
      }
    },
    {
      "cell_type": "code",
      "source": [
        "print('Key Findings:')\n",
        "print('1. Working days do not significantly affect cycle rentals (p-value > 0.05)')\n",
        "print('2. Weather conditions significantly affect cycle rentals (ANOVA p-value < 0.05)')\n",
        "print('3. Seasons significantly affect cycle rentals (ANOVA p-value < 0.05)')\n",
        "print('4. Weather and season are dependent variables (Chi-square p-value < 0.05)')\n",
        "print('\\nRecommendations:')\n",
        "print('1. Adjust pricing and marketing strategies based on weather forecasts')\n",
        "print('2. Implement seasonal promotions to boost rentals during low-demand periods')\n",
        "print('3. Consider weather-season combinations for more targeted strategies')"
      ],
      "metadata": {
        "id": "gP5GFb6ZyHB7",
        "colab": {
          "base_uri": "https://localhost:8080/"
        },
        "outputId": "54c98a44-0b72-4f7b-bbf0-0718d032a00c"
      },
      "execution_count": 43,
      "outputs": [
        {
          "output_type": "stream",
          "name": "stdout",
          "text": [
            "Key Findings:\n",
            "1. Working days do not significantly affect cycle rentals (p-value > 0.05)\n",
            "2. Weather conditions significantly affect cycle rentals (ANOVA p-value < 0.05)\n",
            "3. Seasons significantly affect cycle rentals (ANOVA p-value < 0.05)\n",
            "4. Weather and season are dependent variables (Chi-square p-value < 0.05)\n",
            "\n",
            "Recommendations:\n",
            "1. Adjust pricing and marketing strategies based on weather forecasts\n",
            "2. Implement seasonal promotions to boost rentals during low-demand periods\n",
            "3. Consider weather-season combinations for more targeted strategies\n"
          ]
        }
      ]
    }
  ]
}